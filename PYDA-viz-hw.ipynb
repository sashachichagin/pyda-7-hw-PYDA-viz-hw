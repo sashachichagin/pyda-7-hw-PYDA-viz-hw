{
 "cells": [
  {
   "cell_type": "code",
   "execution_count": 1,
   "metadata": {},
   "outputs": [
    {
     "data": {
      "text/html": [
       "        <script type=\"text/javascript\">\n",
       "        window.PlotlyConfig = {MathJaxConfig: 'local'};\n",
       "        if (window.MathJax) {MathJax.Hub.Config({SVG: {font: \"STIX-Web\"}});}\n",
       "        if (typeof require !== 'undefined') {\n",
       "        require.undef(\"plotly\");\n",
       "        requirejs.config({\n",
       "            paths: {\n",
       "                'plotly': ['https://cdn.plot.ly/plotly-latest.min']\n",
       "            }\n",
       "        });\n",
       "        require(['plotly'], function(Plotly) {\n",
       "            window._Plotly = Plotly;\n",
       "        });\n",
       "        }\n",
       "        </script>\n",
       "        "
      ]
     },
     "metadata": {},
     "output_type": "display_data"
    }
   ],
   "source": [
    "import pandas as pd\n",
    "import matplotlib.pyplot as plt\n",
    "import datetime as dt\n",
    "import seaborn as sns\n",
    "\n",
    "from plotly.offline import init_notebook_mode, iplot\n",
    "import plotly\n",
    "import plotly.graph_objs as go\n",
    "\n",
    "init_notebook_mode(connected=True)\n",
    "\n",
    "from scipy.stats import pearsonr"
   ]
  },
  {
   "cell_type": "markdown",
   "metadata": {},
   "source": [
    "Я для задания по визуализации взял данные по трендовым видео YouTube.  \n",
    "Статистика по трендовым видео YouTube выложена тут: https://www.kaggle.com/datasnaek/youtube-new (данные устаревшие).  \n",
    "В репозитарии https://github.com/mitchelljy/Trending-YouTube-Scraper указано как самому получить статистику по трендовым видео. Я получил API ключ, использовал запрос, который предложен в этом репозитарии, и выгрузил трендовые видео YouTube на 08.02.2020 по США, Великобритании, Германии, Франции и России. Всего в тренд попадает по 200 видео в каждой стране.     \n",
    "В репозитарии домашнего задания помимо данного ноутбука выложен код, по которому я извлекал видео из YouTube, scraper.ipynb, файл country_codes.txt, в которым записаны коды стран для выгрузки, файл api_key.txt, в ктором указывается API ключ."
   ]
  },
  {
   "cell_type": "code",
   "execution_count": 3,
   "metadata": {},
   "outputs": [],
   "source": [
    "# Здесь подготавливаются данные, чтобы их можно было потом обрабатывать и строить графики.\n",
    "class trend_contry:\n",
    "    def codes_list(self):\n",
    "        '''\n",
    "            Метод извлекает коды стран из файла country_codes.txt и превращает их в список:\n",
    "        ['US', 'GB', 'DE', 'FR', 'RU'], \n",
    "        где 'US' - США, 'GB' - Великобритания, 'DE' - Германия, 'FR' - Франция, 'RU' - Россия\n",
    "        '''\n",
    "        country_codes = pd.read_table('country_codes.txt', names = ['code'])\n",
    "        country_codes = [x.rstrip() for x in country_codes['code']]\n",
    "        return country_codes\n",
    "    def trend_data(self):\n",
    "        '''\n",
    "            Метод который открывает каждый файл с данными по трендовым видео страны, заносит эти данные в словарь, \n",
    "        где ключ это код страны, а значение DataFrame данных по трендовым видео.\n",
    "            Затем используется левое соединение с DataFrame, где указаны коды и наименование категории\n",
    "        (у каждой страны могут быть свои коды и наименования категории, поэтому файлы с категориями у стран разные).\n",
    "            После этого соединяются все данные по странам в один DataFrame, где ключи это коды страны.\n",
    "        '''\n",
    "        trend_contry ={}\n",
    "        category_contry_dict={}\n",
    "        for code in self.codes_list():\n",
    "            trend_contry[code] = pd.read_csv(f'output/20.08.02_{code}_videos.csv') # данные по трендовым видео\n",
    "            trend_contry[code]['trending_date'] = pd.to_datetime(trend_contry[code]['trending_date'], format='%y.%d.%m')\n",
    "            trend_contry[code]['publishedAt'] = pd.to_datetime(trend_contry[code]['publishedAt'], format='%Y-%m-%d')\n",
    "            trend_contry[code]['publishedAt'] = trend_contry[code]['publishedAt'].dt.tz_localize(None) # убираем timezone, мне нужно было для того, чтобы выгрузить в Excel\n",
    "            \n",
    "            category_contry = pd.read_json(f'output/{code}_category_id.json') # данные категориям видео, формат json\n",
    "            category_contry_dict={}\n",
    "            for el in category_contry['items']:\n",
    "                category_contry_dict[el['id']] = el['snippet']['title']       # преобразуем словарь, убрав всё лишнее, оставив только код и наименование категории\n",
    "\n",
    "            category_contry_df = pd.DataFrame(data=[category_contry_dict]).T.reset_index() # Преобразование словаря с категориями в DataFrame\n",
    "            category_contry_df.columns = ['categoryId', 'category']\n",
    "            category_contry_df['categoryId'] = category_contry_df.categoryId.astype('int64')\n",
    "            \n",
    "            trend_contry[code] = trend_contry[code].merge(category_contry_df, on='categoryId', how='left')\n",
    "            trend_contry[code] = trend_contry[code][['video_id','title','channelTitle','publishedAt','trending_date',\n",
    "                                           'tags','view_count','likes','dislikes','comment_count','categoryId','category']]\n",
    "\n",
    "\n",
    "        trend_contry_all = pd.concat(trend_contry)\n",
    "        trend_contry_all = pd.concat(trend_contry).reset_index(level=1, drop=True)\n",
    "        return trend_contry_all        "
   ]
  },
  {
   "cell_type": "code",
   "execution_count": 4,
   "metadata": {},
   "outputs": [
    {
     "data": {
      "text/html": [
       "<div>\n",
       "<style scoped>\n",
       "    .dataframe tbody tr th:only-of-type {\n",
       "        vertical-align: middle;\n",
       "    }\n",
       "\n",
       "    .dataframe tbody tr th {\n",
       "        vertical-align: top;\n",
       "    }\n",
       "\n",
       "    .dataframe thead th {\n",
       "        text-align: right;\n",
       "    }\n",
       "</style>\n",
       "<table border=\"1\" class=\"dataframe\">\n",
       "  <thead>\n",
       "    <tr style=\"text-align: right;\">\n",
       "      <th></th>\n",
       "      <th>video_id</th>\n",
       "      <th>title</th>\n",
       "      <th>channelTitle</th>\n",
       "      <th>publishedAt</th>\n",
       "      <th>trending_date</th>\n",
       "      <th>tags</th>\n",
       "      <th>view_count</th>\n",
       "      <th>likes</th>\n",
       "      <th>dislikes</th>\n",
       "      <th>comment_count</th>\n",
       "      <th>categoryId</th>\n",
       "      <th>category</th>\n",
       "    </tr>\n",
       "  </thead>\n",
       "  <tbody>\n",
       "    <tr>\n",
       "      <td>US</td>\n",
       "      <td>LOVxwVvUe_c</td>\n",
       "      <td>Nicki Minaj - Yikes (Official Audio)</td>\n",
       "      <td>Nicki Minaj</td>\n",
       "      <td>2020-02-07 08:03:03</td>\n",
       "      <td>2020-02-08</td>\n",
       "      <td>nicki|minaj|nicki minaj 2019|nicki minaj|pink ...</td>\n",
       "      <td>2241192</td>\n",
       "      <td>188575</td>\n",
       "      <td>10612</td>\n",
       "      <td>21954</td>\n",
       "      <td>10</td>\n",
       "      <td>Music</td>\n",
       "    </tr>\n",
       "    <tr>\n",
       "      <td>US</td>\n",
       "      <td>hAjuvcQNzfw</td>\n",
       "      <td>Mudding the $100,000 F350 Until it’s Ruined</td>\n",
       "      <td>WhistlinDiesel</td>\n",
       "      <td>2020-02-07 22:32:31</td>\n",
       "      <td>2020-02-08</td>\n",
       "      <td>whistlindiesel|ford|f350|f250|f150|raptor|dies...</td>\n",
       "      <td>590282</td>\n",
       "      <td>25228</td>\n",
       "      <td>2872</td>\n",
       "      <td>8153</td>\n",
       "      <td>22</td>\n",
       "      <td>People &amp; Blogs</td>\n",
       "    </tr>\n",
       "    <tr>\n",
       "      <td>US</td>\n",
       "      <td>FXeDN7sQk30</td>\n",
       "      <td>Anuel AA - Keii [Official Video]</td>\n",
       "      <td>Anuel AA</td>\n",
       "      <td>2020-02-07 05:00:31</td>\n",
       "      <td>2020-02-08</td>\n",
       "      <td>anuel aa|keii|real hasta la muerte|Anuel|Anuel...</td>\n",
       "      <td>9132471</td>\n",
       "      <td>467699</td>\n",
       "      <td>19609</td>\n",
       "      <td>18509</td>\n",
       "      <td>10</td>\n",
       "      <td>Music</td>\n",
       "    </tr>\n",
       "    <tr>\n",
       "      <td>US</td>\n",
       "      <td>c-yRN55iaQY</td>\n",
       "      <td>Lil Nas X - Rodeo (ft. Nas) [Official Video]</td>\n",
       "      <td>LilNasXVEVO</td>\n",
       "      <td>2020-02-06 15:00:10</td>\n",
       "      <td>2020-02-08</td>\n",
       "      <td>LilNasX|Nas|Nas X|Rodeo Remix|Nas and Nas X|Hi...</td>\n",
       "      <td>7645550</td>\n",
       "      <td>544271</td>\n",
       "      <td>23576</td>\n",
       "      <td>45654</td>\n",
       "      <td>10</td>\n",
       "      <td>Music</td>\n",
       "    </tr>\n",
       "    <tr>\n",
       "      <td>US</td>\n",
       "      <td>4rNo-UuGDfA</td>\n",
       "      <td>Meek Mill - Believe (feat. Justin Timberlake) ...</td>\n",
       "      <td>Meek Mill</td>\n",
       "      <td>2020-02-07 05:06:48</td>\n",
       "      <td>2020-02-08</td>\n",
       "      <td>meek mill|meek|mill|hip hop|rap|atlantic|wins ...</td>\n",
       "      <td>1796732</td>\n",
       "      <td>111084</td>\n",
       "      <td>2737</td>\n",
       "      <td>8550</td>\n",
       "      <td>10</td>\n",
       "      <td>Music</td>\n",
       "    </tr>\n",
       "  </tbody>\n",
       "</table>\n",
       "</div>"
      ],
      "text/plain": [
       "       video_id                                              title  \\\n",
       "US  LOVxwVvUe_c               Nicki Minaj - Yikes (Official Audio)   \n",
       "US  hAjuvcQNzfw        Mudding the $100,000 F350 Until it’s Ruined   \n",
       "US  FXeDN7sQk30                   Anuel AA - Keii [Official Video]   \n",
       "US  c-yRN55iaQY       Lil Nas X - Rodeo (ft. Nas) [Official Video]   \n",
       "US  4rNo-UuGDfA  Meek Mill - Believe (feat. Justin Timberlake) ...   \n",
       "\n",
       "      channelTitle         publishedAt trending_date  \\\n",
       "US     Nicki Minaj 2020-02-07 08:03:03    2020-02-08   \n",
       "US  WhistlinDiesel 2020-02-07 22:32:31    2020-02-08   \n",
       "US        Anuel AA 2020-02-07 05:00:31    2020-02-08   \n",
       "US     LilNasXVEVO 2020-02-06 15:00:10    2020-02-08   \n",
       "US       Meek Mill 2020-02-07 05:06:48    2020-02-08   \n",
       "\n",
       "                                                 tags  view_count   likes  \\\n",
       "US  nicki|minaj|nicki minaj 2019|nicki minaj|pink ...     2241192  188575   \n",
       "US  whistlindiesel|ford|f350|f250|f150|raptor|dies...      590282   25228   \n",
       "US  anuel aa|keii|real hasta la muerte|Anuel|Anuel...     9132471  467699   \n",
       "US  LilNasX|Nas|Nas X|Rodeo Remix|Nas and Nas X|Hi...     7645550  544271   \n",
       "US  meek mill|meek|mill|hip hop|rap|atlantic|wins ...     1796732  111084   \n",
       "\n",
       "    dislikes  comment_count  categoryId        category  \n",
       "US     10612          21954          10           Music  \n",
       "US      2872           8153          22  People & Blogs  \n",
       "US     19609          18509          10           Music  \n",
       "US     23576          45654          10           Music  \n",
       "US      2737           8550          10           Music  "
      ]
     },
     "execution_count": 4,
     "metadata": {},
     "output_type": "execute_result"
    }
   ],
   "source": [
    "tc = trend_contry().trend_data()\n",
    "tc.head()"
   ]
  },
  {
   "cell_type": "code",
   "execution_count": 5,
   "metadata": {},
   "outputs": [
    {
     "data": {
      "text/plain": [
       "(1000, 12)"
      ]
     },
     "execution_count": 5,
     "metadata": {},
     "output_type": "execute_result"
    }
   ],
   "source": [
    "tc.shape"
   ]
  },
  {
   "cell_type": "markdown",
   "metadata": {},
   "source": [
    "### 1 График.  \n",
    "Отражаются данные по активности населения стран в Youtube.\n",
    "(фактически только в трендовых видео)  \n",
    "Для этого общая сумма просмотров трендовых видео по каждой стране делится на население этих стран.\n"
   ]
  },
  {
   "cell_type": "code",
   "execution_count": 6,
   "metadata": {},
   "outputs": [
    {
     "data": {
      "text/html": [
       "<div>\n",
       "<style scoped>\n",
       "    .dataframe tbody tr th:only-of-type {\n",
       "        vertical-align: middle;\n",
       "    }\n",
       "\n",
       "    .dataframe tbody tr th {\n",
       "        vertical-align: top;\n",
       "    }\n",
       "\n",
       "    .dataframe thead th {\n",
       "        text-align: right;\n",
       "    }\n",
       "</style>\n",
       "<table border=\"1\" class=\"dataframe\">\n",
       "  <thead>\n",
       "    <tr style=\"text-align: right;\">\n",
       "      <th></th>\n",
       "      <th>population</th>\n",
       "    </tr>\n",
       "  </thead>\n",
       "  <tbody>\n",
       "    <tr>\n",
       "      <td>US</td>\n",
       "      <td>331427186</td>\n",
       "    </tr>\n",
       "    <tr>\n",
       "      <td>GB</td>\n",
       "      <td>66647112</td>\n",
       "    </tr>\n",
       "    <tr>\n",
       "      <td>DE</td>\n",
       "      <td>83322345</td>\n",
       "    </tr>\n",
       "    <tr>\n",
       "      <td>FR</td>\n",
       "      <td>68859599</td>\n",
       "    </tr>\n",
       "    <tr>\n",
       "      <td>RU</td>\n",
       "      <td>146780720</td>\n",
       "    </tr>\n",
       "  </tbody>\n",
       "</table>\n",
       "</div>"
      ],
      "text/plain": [
       "    population\n",
       "US   331427186\n",
       "GB    66647112\n",
       "DE    83322345\n",
       "FR    68859599\n",
       "RU   146780720"
      ]
     },
     "execution_count": 6,
     "metadata": {},
     "output_type": "execute_result"
    }
   ],
   "source": [
    "# Численность населения стран https://ru.wikipedia.org/wiki/Список_стран_по_населению\n",
    "population = {'US':331427186, 'GB':66647112, 'DE':83322345, 'FR':68859599, 'RU':146780720}\n",
    "# Преобразуем своварь в DataFrame\n",
    "population_df = pd.DataFrame([population], columns=population.keys()).T\n",
    "population_df.columns =['population']\n",
    "population_df"
   ]
  },
  {
   "cell_type": "code",
   "execution_count": 7,
   "metadata": {},
   "outputs": [
    {
     "data": {
      "text/html": [
       "<div>\n",
       "<style scoped>\n",
       "    .dataframe tbody tr th:only-of-type {\n",
       "        vertical-align: middle;\n",
       "    }\n",
       "\n",
       "    .dataframe tbody tr th {\n",
       "        vertical-align: top;\n",
       "    }\n",
       "\n",
       "    .dataframe thead th {\n",
       "        text-align: right;\n",
       "    }\n",
       "</style>\n",
       "<table border=\"1\" class=\"dataframe\">\n",
       "  <thead>\n",
       "    <tr style=\"text-align: right;\">\n",
       "      <th></th>\n",
       "      <th>views</th>\n",
       "    </tr>\n",
       "  </thead>\n",
       "  <tbody>\n",
       "    <tr>\n",
       "      <td>DE</td>\n",
       "      <td>491711439</td>\n",
       "    </tr>\n",
       "    <tr>\n",
       "      <td>FR</td>\n",
       "      <td>482743024</td>\n",
       "    </tr>\n",
       "    <tr>\n",
       "      <td>GB</td>\n",
       "      <td>700068376</td>\n",
       "    </tr>\n",
       "    <tr>\n",
       "      <td>RU</td>\n",
       "      <td>63023264</td>\n",
       "    </tr>\n",
       "    <tr>\n",
       "      <td>US</td>\n",
       "      <td>676038354</td>\n",
       "    </tr>\n",
       "  </tbody>\n",
       "</table>\n",
       "</div>"
      ],
      "text/plain": [
       "        views\n",
       "DE  491711439\n",
       "FR  482743024\n",
       "GB  700068376\n",
       "RU   63023264\n",
       "US  676038354"
      ]
     },
     "execution_count": 7,
     "metadata": {},
     "output_type": "execute_result"
    }
   ],
   "source": [
    "# Общая сумма просмотров трендовых видео по странам\n",
    "views_df = tc[['view_count']].groupby([tc.index]).sum()\n",
    "views_df.columns =['views']\n",
    "views_df"
   ]
  },
  {
   "cell_type": "code",
   "execution_count": 8,
   "metadata": {},
   "outputs": [],
   "source": [
    "# Функция, рассчитывающая количесвтво просмотров трендовых видео из расчета на одного человека\n",
    "def share(row):\n",
    "    return row['views']/row['population']"
   ]
  },
  {
   "cell_type": "code",
   "execution_count": 9,
   "metadata": {},
   "outputs": [
    {
     "data": {
      "text/html": [
       "<div>\n",
       "<style scoped>\n",
       "    .dataframe tbody tr th:only-of-type {\n",
       "        vertical-align: middle;\n",
       "    }\n",
       "\n",
       "    .dataframe tbody tr th {\n",
       "        vertical-align: top;\n",
       "    }\n",
       "\n",
       "    .dataframe thead th {\n",
       "        text-align: right;\n",
       "    }\n",
       "</style>\n",
       "<table border=\"1\" class=\"dataframe\">\n",
       "  <thead>\n",
       "    <tr style=\"text-align: right;\">\n",
       "      <th></th>\n",
       "      <th>views_on_people</th>\n",
       "    </tr>\n",
       "  </thead>\n",
       "  <tbody>\n",
       "    <tr>\n",
       "      <td>GB</td>\n",
       "      <td>10.504107</td>\n",
       "    </tr>\n",
       "    <tr>\n",
       "      <td>FR</td>\n",
       "      <td>7.010541</td>\n",
       "    </tr>\n",
       "    <tr>\n",
       "      <td>DE</td>\n",
       "      <td>5.901315</td>\n",
       "    </tr>\n",
       "    <tr>\n",
       "      <td>US</td>\n",
       "      <td>2.039779</td>\n",
       "    </tr>\n",
       "    <tr>\n",
       "      <td>RU</td>\n",
       "      <td>0.429370</td>\n",
       "    </tr>\n",
       "  </tbody>\n",
       "</table>\n",
       "</div>"
      ],
      "text/plain": [
       "    views_on_people\n",
       "GB        10.504107\n",
       "FR         7.010541\n",
       "DE         5.901315\n",
       "US         2.039779\n",
       "RU         0.429370"
      ]
     },
     "execution_count": 9,
     "metadata": {},
     "output_type": "execute_result"
    }
   ],
   "source": [
    "activity_df = views_df.join(population_df)\n",
    "activity_df['views_on_people'] = activity_df.apply(share, axis=1)\n",
    "activity_df = activity_df[['views_on_people']]\n",
    "activity_df.sort_values('views_on_people', ascending=False, inplace=True)\n",
    "activity_df"
   ]
  },
  {
   "cell_type": "code",
   "execution_count": 10,
   "metadata": {},
   "outputs": [
    {
     "data": {
      "text/html": [
       "<style  type=\"text/css\" >\n",
       "    #T_a5846fb4_4cb5_11ea_81c6_e0d55e26271brow0_col0 {\n",
       "            width:  10em;\n",
       "             height:  80%;\n",
       "            background:  linear-gradient(90deg,#d65f5f 100.0%, transparent 100.0%);\n",
       "        }    #T_a5846fb4_4cb5_11ea_81c6_e0d55e26271brow1_col0 {\n",
       "            width:  10em;\n",
       "             height:  80%;\n",
       "            background:  linear-gradient(90deg,#d65f5f 66.7%, transparent 66.7%);\n",
       "        }    #T_a5846fb4_4cb5_11ea_81c6_e0d55e26271brow2_col0 {\n",
       "            width:  10em;\n",
       "             height:  80%;\n",
       "            background:  linear-gradient(90deg,#d65f5f 56.2%, transparent 56.2%);\n",
       "        }    #T_a5846fb4_4cb5_11ea_81c6_e0d55e26271brow3_col0 {\n",
       "            width:  10em;\n",
       "             height:  80%;\n",
       "            background:  linear-gradient(90deg,#d65f5f 19.4%, transparent 19.4%);\n",
       "        }    #T_a5846fb4_4cb5_11ea_81c6_e0d55e26271brow4_col0 {\n",
       "            width:  10em;\n",
       "             height:  80%;\n",
       "            background:  linear-gradient(90deg,#d65f5f 4.1%, transparent 4.1%);\n",
       "        }</style><table id=\"T_a5846fb4_4cb5_11ea_81c6_e0d55e26271b\" ><thead>    <tr>        <th class=\"blank level0\" ></th>        <th class=\"col_heading level0 col0\" >views_on_people</th>    </tr></thead><tbody>\n",
       "                <tr>\n",
       "                        <th id=\"T_a5846fb4_4cb5_11ea_81c6_e0d55e26271blevel0_row0\" class=\"row_heading level0 row0\" >GB</th>\n",
       "                        <td id=\"T_a5846fb4_4cb5_11ea_81c6_e0d55e26271brow0_col0\" class=\"data row0 col0\" >10.5041</td>\n",
       "            </tr>\n",
       "            <tr>\n",
       "                        <th id=\"T_a5846fb4_4cb5_11ea_81c6_e0d55e26271blevel0_row1\" class=\"row_heading level0 row1\" >FR</th>\n",
       "                        <td id=\"T_a5846fb4_4cb5_11ea_81c6_e0d55e26271brow1_col0\" class=\"data row1 col0\" >7.01054</td>\n",
       "            </tr>\n",
       "            <tr>\n",
       "                        <th id=\"T_a5846fb4_4cb5_11ea_81c6_e0d55e26271blevel0_row2\" class=\"row_heading level0 row2\" >DE</th>\n",
       "                        <td id=\"T_a5846fb4_4cb5_11ea_81c6_e0d55e26271brow2_col0\" class=\"data row2 col0\" >5.90132</td>\n",
       "            </tr>\n",
       "            <tr>\n",
       "                        <th id=\"T_a5846fb4_4cb5_11ea_81c6_e0d55e26271blevel0_row3\" class=\"row_heading level0 row3\" >US</th>\n",
       "                        <td id=\"T_a5846fb4_4cb5_11ea_81c6_e0d55e26271brow3_col0\" class=\"data row3 col0\" >2.03978</td>\n",
       "            </tr>\n",
       "            <tr>\n",
       "                        <th id=\"T_a5846fb4_4cb5_11ea_81c6_e0d55e26271blevel0_row4\" class=\"row_heading level0 row4\" >RU</th>\n",
       "                        <td id=\"T_a5846fb4_4cb5_11ea_81c6_e0d55e26271brow4_col0\" class=\"data row4 col0\" >0.42937</td>\n",
       "            </tr>\n",
       "    </tbody></table>"
      ],
      "text/plain": [
       "<pandas.io.formats.style.Styler at 0x1ffcc396bc8>"
      ]
     },
     "execution_count": 10,
     "metadata": {},
     "output_type": "execute_result"
    }
   ],
   "source": [
    "activity_df.style.bar(vmin=0)"
   ]
  },
  {
   "cell_type": "markdown",
   "metadata": {},
   "source": [
    "   Цель в данном графике показать активность населения стран в Youtube.  \n",
    "На графике отражается количество просмотров всех трендовых видео на воскресенье 08.02.20 в расчёте на одного человека.  \n",
    "   В данном графике удобно совмещена таблица и сам график, можно и визуально и по цифрам осуществлять сравнение.  \n",
    "По графику видно, что больше всего просмативали тренды из расчета на населения жители Великобритании и меньше всего России.  \n",
    "Возможно, в России люди редко смотрят Youtube, либо люди не так подвержены моде, просмотру трендовых видео."
   ]
  },
  {
   "cell_type": "markdown",
   "metadata": {},
   "source": [
    "### 2 График.  \n",
    "Отражается насколько в трендах популярны видео с упоминанием короновируса."
   ]
  },
  {
   "cell_type": "code",
   "execution_count": 11,
   "metadata": {},
   "outputs": [],
   "source": [
    "# На английском, немецком и французском языках коронавирус пишется одинаково.\n",
    "# Поэтому варианта всего 2: 'coronavirus','коронавирус'"
   ]
  },
  {
   "cell_type": "code",
   "execution_count": 12,
   "metadata": {},
   "outputs": [],
   "source": [
    "# Будем искать интересующий нас текст в названии видео и в тегах, добавляем Флаг\n",
    "tc_coronavirus = tc.copy()\n",
    "tc_coronavirus['flg_coronavirus'] = tc_coronavirus.apply(lambda row: (('coronavirus' in row.title.lower()) or ('coronavirus' in row.tags.lower()) \\\n",
    "                                  or ('коронавирус' in row.title.lower()) or ('коронавирус' in row.tags.lower())), axis=1)"
   ]
  },
  {
   "cell_type": "code",
   "execution_count": 13,
   "metadata": {},
   "outputs": [],
   "source": [
    "# Укажем в новом поле количество просмотров для видео о короновирусе\n",
    "def coronavirus_view_count(row):\n",
    "    if row.flg_coronavirus:\n",
    "        return row.view_count\n",
    "tc_coronavirus['coronavirus_view_count'] = tc_coronavirus.apply(coronavirus_view_count, axis=1)"
   ]
  },
  {
   "cell_type": "code",
   "execution_count": 14,
   "metadata": {},
   "outputs": [
    {
     "data": {
      "text/html": [
       "<div>\n",
       "<style scoped>\n",
       "    .dataframe tbody tr th:only-of-type {\n",
       "        vertical-align: middle;\n",
       "    }\n",
       "\n",
       "    .dataframe tbody tr th {\n",
       "        vertical-align: top;\n",
       "    }\n",
       "\n",
       "    .dataframe thead th {\n",
       "        text-align: right;\n",
       "    }\n",
       "</style>\n",
       "<table border=\"1\" class=\"dataframe\">\n",
       "  <thead>\n",
       "    <tr style=\"text-align: right;\">\n",
       "      <th></th>\n",
       "      <th>video_id</th>\n",
       "      <th>title</th>\n",
       "      <th>channelTitle</th>\n",
       "      <th>publishedAt</th>\n",
       "      <th>trending_date</th>\n",
       "      <th>tags</th>\n",
       "      <th>view_count</th>\n",
       "      <th>likes</th>\n",
       "      <th>dislikes</th>\n",
       "      <th>comment_count</th>\n",
       "      <th>categoryId</th>\n",
       "      <th>category</th>\n",
       "      <th>flg_coronavirus</th>\n",
       "      <th>coronavirus_view_count</th>\n",
       "    </tr>\n",
       "  </thead>\n",
       "  <tbody>\n",
       "    <tr>\n",
       "      <td>US</td>\n",
       "      <td>LOVxwVvUe_c</td>\n",
       "      <td>Nicki Minaj - Yikes (Official Audio)</td>\n",
       "      <td>Nicki Minaj</td>\n",
       "      <td>2020-02-07 08:03:03</td>\n",
       "      <td>2020-02-08</td>\n",
       "      <td>nicki|minaj|nicki minaj 2019|nicki minaj|pink ...</td>\n",
       "      <td>2241192</td>\n",
       "      <td>188575</td>\n",
       "      <td>10612</td>\n",
       "      <td>21954</td>\n",
       "      <td>10</td>\n",
       "      <td>Music</td>\n",
       "      <td>False</td>\n",
       "      <td>NaN</td>\n",
       "    </tr>\n",
       "    <tr>\n",
       "      <td>US</td>\n",
       "      <td>hAjuvcQNzfw</td>\n",
       "      <td>Mudding the $100,000 F350 Until it’s Ruined</td>\n",
       "      <td>WhistlinDiesel</td>\n",
       "      <td>2020-02-07 22:32:31</td>\n",
       "      <td>2020-02-08</td>\n",
       "      <td>whistlindiesel|ford|f350|f250|f150|raptor|dies...</td>\n",
       "      <td>590282</td>\n",
       "      <td>25228</td>\n",
       "      <td>2872</td>\n",
       "      <td>8153</td>\n",
       "      <td>22</td>\n",
       "      <td>People &amp; Blogs</td>\n",
       "      <td>False</td>\n",
       "      <td>NaN</td>\n",
       "    </tr>\n",
       "    <tr>\n",
       "      <td>US</td>\n",
       "      <td>FXeDN7sQk30</td>\n",
       "      <td>Anuel AA - Keii [Official Video]</td>\n",
       "      <td>Anuel AA</td>\n",
       "      <td>2020-02-07 05:00:31</td>\n",
       "      <td>2020-02-08</td>\n",
       "      <td>anuel aa|keii|real hasta la muerte|Anuel|Anuel...</td>\n",
       "      <td>9132471</td>\n",
       "      <td>467699</td>\n",
       "      <td>19609</td>\n",
       "      <td>18509</td>\n",
       "      <td>10</td>\n",
       "      <td>Music</td>\n",
       "      <td>False</td>\n",
       "      <td>NaN</td>\n",
       "    </tr>\n",
       "    <tr>\n",
       "      <td>US</td>\n",
       "      <td>c-yRN55iaQY</td>\n",
       "      <td>Lil Nas X - Rodeo (ft. Nas) [Official Video]</td>\n",
       "      <td>LilNasXVEVO</td>\n",
       "      <td>2020-02-06 15:00:10</td>\n",
       "      <td>2020-02-08</td>\n",
       "      <td>LilNasX|Nas|Nas X|Rodeo Remix|Nas and Nas X|Hi...</td>\n",
       "      <td>7645550</td>\n",
       "      <td>544271</td>\n",
       "      <td>23576</td>\n",
       "      <td>45654</td>\n",
       "      <td>10</td>\n",
       "      <td>Music</td>\n",
       "      <td>False</td>\n",
       "      <td>NaN</td>\n",
       "    </tr>\n",
       "    <tr>\n",
       "      <td>US</td>\n",
       "      <td>4rNo-UuGDfA</td>\n",
       "      <td>Meek Mill - Believe (feat. Justin Timberlake) ...</td>\n",
       "      <td>Meek Mill</td>\n",
       "      <td>2020-02-07 05:06:48</td>\n",
       "      <td>2020-02-08</td>\n",
       "      <td>meek mill|meek|mill|hip hop|rap|atlantic|wins ...</td>\n",
       "      <td>1796732</td>\n",
       "      <td>111084</td>\n",
       "      <td>2737</td>\n",
       "      <td>8550</td>\n",
       "      <td>10</td>\n",
       "      <td>Music</td>\n",
       "      <td>False</td>\n",
       "      <td>NaN</td>\n",
       "    </tr>\n",
       "  </tbody>\n",
       "</table>\n",
       "</div>"
      ],
      "text/plain": [
       "       video_id                                              title  \\\n",
       "US  LOVxwVvUe_c               Nicki Minaj - Yikes (Official Audio)   \n",
       "US  hAjuvcQNzfw        Mudding the $100,000 F350 Until it’s Ruined   \n",
       "US  FXeDN7sQk30                   Anuel AA - Keii [Official Video]   \n",
       "US  c-yRN55iaQY       Lil Nas X - Rodeo (ft. Nas) [Official Video]   \n",
       "US  4rNo-UuGDfA  Meek Mill - Believe (feat. Justin Timberlake) ...   \n",
       "\n",
       "      channelTitle         publishedAt trending_date  \\\n",
       "US     Nicki Minaj 2020-02-07 08:03:03    2020-02-08   \n",
       "US  WhistlinDiesel 2020-02-07 22:32:31    2020-02-08   \n",
       "US        Anuel AA 2020-02-07 05:00:31    2020-02-08   \n",
       "US     LilNasXVEVO 2020-02-06 15:00:10    2020-02-08   \n",
       "US       Meek Mill 2020-02-07 05:06:48    2020-02-08   \n",
       "\n",
       "                                                 tags  view_count   likes  \\\n",
       "US  nicki|minaj|nicki minaj 2019|nicki minaj|pink ...     2241192  188575   \n",
       "US  whistlindiesel|ford|f350|f250|f150|raptor|dies...      590282   25228   \n",
       "US  anuel aa|keii|real hasta la muerte|Anuel|Anuel...     9132471  467699   \n",
       "US  LilNasX|Nas|Nas X|Rodeo Remix|Nas and Nas X|Hi...     7645550  544271   \n",
       "US  meek mill|meek|mill|hip hop|rap|atlantic|wins ...     1796732  111084   \n",
       "\n",
       "    dislikes  comment_count  categoryId        category  flg_coronavirus  \\\n",
       "US     10612          21954          10           Music            False   \n",
       "US      2872           8153          22  People & Blogs            False   \n",
       "US     19609          18509          10           Music            False   \n",
       "US     23576          45654          10           Music            False   \n",
       "US      2737           8550          10           Music            False   \n",
       "\n",
       "    coronavirus_view_count  \n",
       "US                     NaN  \n",
       "US                     NaN  \n",
       "US                     NaN  \n",
       "US                     NaN  \n",
       "US                     NaN  "
      ]
     },
     "execution_count": 14,
     "metadata": {},
     "output_type": "execute_result"
    }
   ],
   "source": [
    "tc_coronavirus.head()"
   ]
  },
  {
   "cell_type": "code",
   "execution_count": 15,
   "metadata": {},
   "outputs": [
    {
     "data": {
      "text/html": [
       "<div>\n",
       "<style scoped>\n",
       "    .dataframe tbody tr th:only-of-type {\n",
       "        vertical-align: middle;\n",
       "    }\n",
       "\n",
       "    .dataframe tbody tr th {\n",
       "        vertical-align: top;\n",
       "    }\n",
       "\n",
       "    .dataframe thead th {\n",
       "        text-align: right;\n",
       "    }\n",
       "</style>\n",
       "<table border=\"1\" class=\"dataframe\">\n",
       "  <thead>\n",
       "    <tr style=\"text-align: right;\">\n",
       "      <th></th>\n",
       "      <th>view_count</th>\n",
       "      <th>coronavirus_view_count</th>\n",
       "    </tr>\n",
       "  </thead>\n",
       "  <tbody>\n",
       "    <tr>\n",
       "      <td>DE</td>\n",
       "      <td>491711439</td>\n",
       "      <td>1309947.0</td>\n",
       "    </tr>\n",
       "    <tr>\n",
       "      <td>FR</td>\n",
       "      <td>482743024</td>\n",
       "      <td>1524018.0</td>\n",
       "    </tr>\n",
       "    <tr>\n",
       "      <td>GB</td>\n",
       "      <td>700068376</td>\n",
       "      <td>6357802.0</td>\n",
       "    </tr>\n",
       "    <tr>\n",
       "      <td>RU</td>\n",
       "      <td>63023264</td>\n",
       "      <td>777486.0</td>\n",
       "    </tr>\n",
       "    <tr>\n",
       "      <td>US</td>\n",
       "      <td>676038354</td>\n",
       "      <td>10218167.0</td>\n",
       "    </tr>\n",
       "  </tbody>\n",
       "</table>\n",
       "</div>"
      ],
      "text/plain": [
       "    view_count  coronavirus_view_count\n",
       "DE   491711439               1309947.0\n",
       "FR   482743024               1524018.0\n",
       "GB   700068376               6357802.0\n",
       "RU    63023264                777486.0\n",
       "US   676038354              10218167.0"
      ]
     },
     "execution_count": 15,
     "metadata": {},
     "output_type": "execute_result"
    }
   ],
   "source": [
    "# Определим все просмотры и просмотры видео с упоминанием коронавируса\n",
    "tc_coronavirus_agg = tc_coronavirus.groupby(tc_coronavirus.index).sum()\n",
    "tc_coronavirus_agg = tc_coronavirus_agg[['view_count','coronavirus_view_count']]\n",
    "tc_coronavirus_agg"
   ]
  },
  {
   "cell_type": "code",
   "execution_count": 16,
   "metadata": {},
   "outputs": [],
   "source": [
    "# Функция, определяющая долю просмотров видео с упоминанием коронавируса по отношению ко всем просмотрам трендовых видео\n",
    "def share_coronavirus(row):\n",
    "    return row['coronavirus_view_count']/row['view_count']"
   ]
  },
  {
   "cell_type": "code",
   "execution_count": 17,
   "metadata": {},
   "outputs": [
    {
     "data": {
      "text/html": [
       "<div>\n",
       "<style scoped>\n",
       "    .dataframe tbody tr th:only-of-type {\n",
       "        vertical-align: middle;\n",
       "    }\n",
       "\n",
       "    .dataframe tbody tr th {\n",
       "        vertical-align: top;\n",
       "    }\n",
       "\n",
       "    .dataframe thead th {\n",
       "        text-align: right;\n",
       "    }\n",
       "</style>\n",
       "<table border=\"1\" class=\"dataframe\">\n",
       "  <thead>\n",
       "    <tr style=\"text-align: right;\">\n",
       "      <th></th>\n",
       "      <th>share_coronavirus</th>\n",
       "    </tr>\n",
       "  </thead>\n",
       "  <tbody>\n",
       "    <tr>\n",
       "      <td>US</td>\n",
       "      <td>1.511477</td>\n",
       "    </tr>\n",
       "    <tr>\n",
       "      <td>RU</td>\n",
       "      <td>1.233649</td>\n",
       "    </tr>\n",
       "    <tr>\n",
       "      <td>GB</td>\n",
       "      <td>0.908169</td>\n",
       "    </tr>\n",
       "    <tr>\n",
       "      <td>FR</td>\n",
       "      <td>0.315700</td>\n",
       "    </tr>\n",
       "    <tr>\n",
       "      <td>DE</td>\n",
       "      <td>0.266406</td>\n",
       "    </tr>\n",
       "  </tbody>\n",
       "</table>\n",
       "</div>"
      ],
      "text/plain": [
       "    share_coronavirus\n",
       "US           1.511477\n",
       "RU           1.233649\n",
       "GB           0.908169\n",
       "FR           0.315700\n",
       "DE           0.266406"
      ]
     },
     "execution_count": 17,
     "metadata": {},
     "output_type": "execute_result"
    }
   ],
   "source": [
    "tc_coronavirus_agg['share_coronavirus'] = tc_coronavirus_agg.apply(share_coronavirus, axis=1)\n",
    "tc_coronavirus_agg = tc_coronavirus_agg[['share_coronavirus']]*100\n",
    "tc_coronavirus_agg.sort_values('share_coronavirus', ascending=False, inplace=True)\n",
    "tc_coronavirus_agg"
   ]
  },
  {
   "cell_type": "code",
   "execution_count": 18,
   "metadata": {},
   "outputs": [
    {
     "data": {
      "text/plain": [
       "Text(0.5, 1.0, 'Coronavirus Video Percentage')"
      ]
     },
     "execution_count": 18,
     "metadata": {},
     "output_type": "execute_result"
    },
    {
     "data": {
      "image/png": "[encoded data removed]",
      "text/plain": [
       "<Figure size 432x288 with 1 Axes>"
      ]
     },
     "metadata": {
      "needs_background": "light"
     },
     "output_type": "display_data"
    }
   ],
   "source": [
    "plt.bar(tc_coronavirus_agg.index, tc_coronavirus_agg['share_coronavirus'])\n",
    "plt.xlabel('Code contry')\n",
    "plt.ylabel('Persent')\n",
    "plt.title('Coronavirus Video Percentage')"
   ]
  },
  {
   "cell_type": "markdown",
   "metadata": {},
   "source": [
    "Данный график показывает популярность видео с упоминанием коронавируса.  \n",
    "Представлена доля просмотров видео в % по отношению к просмотру всех трендовых видео.  \n",
    "Данная столбчатая диаграмма удобно показывает соотношение по выбраным странам."
   ]
  },
  {
   "cell_type": "markdown",
   "metadata": {},
   "source": [
    "### 3 График.\n",
    "График популярности трендовых видео в странах по жанрам"
   ]
  },
  {
   "cell_type": "code",
   "execution_count": 19,
   "metadata": {},
   "outputs": [
    {
     "data": {
      "application/vnd.plotly.v1+json": {
       "config": {
        "linkText": "Export to plot.ly",
        "plotlyServerURL": "https://plot.ly",
        "showLink": false
       },
       "data": [
        {
         "histnorm": "probability",
         "name": "US",
         "type": "histogram",
         "visible": true,
         "x": [
          "Music",
          "People & Blogs",
          "Music",
          "Music",
          "Music",
          "Music",
          "Entertainment",
          "Music",
          "Music",
          "Comedy",
          "Music",
          "Music",
          "Howto & Style",
          "Sports",
          "Music",
          "News & Politics",
          "Entertainment",
          "Entertainment",
          "Entertainment",
          "Entertainment",
          "Sports",
          "Entertainment",
          "Entertainment",
          "Entertainment",
          "Science & Technology",
          "Music",
          "Music",
          "Music",
          "Music",
          "Film & Animation",
          "Entertainment",
          "Entertainment",
          "Comedy",
          "Comedy",
          "Comedy",
          "Sports",
          "People & Blogs",
          "Howto & Style",
          "News & Politics",
          "Entertainment",
          "People & Blogs",
          "Entertainment",
          "Film & Animation",
          "Music",
          "Entertainment",
          "Gaming",
          "Science & Technology",
          "Howto & Style",
          "Entertainment",
          "Entertainment",
          "Entertainment",
          "Film & Animation",
          "Music",
          "Comedy",
          "Education",
          "People & Blogs",
          "Entertainment",
          "Entertainment",
          "Gaming",
          "News & Politics",
          "Comedy",
          "Sports",
          "Entertainment",
          "Entertainment",
          "Education",
          "News & Politics",
          "Music",
          "Comedy",
          "People & Blogs",
          "Entertainment",
          "Entertainment",
          "News & Politics",
          "People & Blogs",
          "Entertainment",
          "Entertainment",
          "Entertainment",
          "Entertainment",
          "Entertainment",
          "Education",
          "Comedy",
          "Sports",
          "News & Politics",
          "Music",
          "Comedy",
          "Entertainment",
          "Sports",
          "Sports",
          "Howto & Style",
          "Entertainment",
          "Entertainment",
          "Howto & Style",
          "Entertainment",
          "Autos & Vehicles",
          "Autos & Vehicles",
          "Entertainment",
          "Comedy",
          "Music",
          "Autos & Vehicles",
          "Comedy",
          "Autos & Vehicles",
          "People & Blogs",
          "Entertainment",
          "News & Politics",
          "Gaming",
          "Entertainment",
          "Music",
          "Entertainment",
          "Sports",
          "Entertainment",
          "Comedy",
          "Music",
          "People & Blogs",
          "Entertainment",
          "People & Blogs",
          "Music",
          "News & Politics",
          "Comedy",
          "Entertainment",
          "Autos & Vehicles",
          "Entertainment",
          "Comedy",
          "Music",
          "Entertainment",
          "News & Politics",
          "People & Blogs",
          "Sports",
          "Entertainment",
          "Comedy",
          "Entertainment",
          "People & Blogs",
          "Comedy",
          "People & Blogs",
          "Gaming",
          "News & Politics",
          "Entertainment",
          "Comedy",
          "Entertainment",
          "Comedy",
          "People & Blogs",
          "Education",
          "People & Blogs",
          "Sports",
          "Entertainment",
          "Film & Animation",
          "Entertainment",
          "Entertainment",
          "Entertainment",
          "Entertainment",
          "Entertainment",
          "Film & Animation",
          "Entertainment",
          "Sports",
          "Entertainment",
          "Sports",
          "News & Politics",
          "Science & Technology",
          "Entertainment",
          "Entertainment",
          "Sports",
          "News & Politics",
          "Comedy",
          "Entertainment",
          "Entertainment",
          "Autos & Vehicles",
          "Sports",
          "Howto & Style",
          "Howto & Style",
          "Entertainment",
          "Entertainment",
          "News & Politics",
          "Music",
          "Sports",
          "Comedy",
          "Sports",
          "Entertainment",
          "Sports",
          "Sports",
          "People & Blogs",
          "Music",
          "Film & Animation",
          "Film & Animation",
          "Comedy",
          "Entertainment",
          "Entertainment",
          "Music",
          "People & Blogs",
          "Comedy",
          "Music",
          "Entertainment",
          "News & Politics",
          "Comedy",
          "Sports",
          "Music",
          "Entertainment",
          "Entertainment",
          "Music",
          "Science & Technology",
          "Music",
          "Music",
          "Comedy"
         ]
        },
        {
         "histnorm": "probability",
         "name": "GB",
         "type": "histogram",
         "visible": false,
         "x": [
          "Entertainment",
          "Music",
          "Music",
          "News & Politics",
          "People & Blogs",
          "Entertainment",
          "Sports",
          "Sports",
          "Autos & Vehicles",
          "Entertainment",
          "Music",
          "Entertainment",
          "Entertainment",
          "Music",
          "Comedy",
          "Music",
          "Music",
          "Howto & Style",
          "Music",
          "Music",
          "Sports",
          "Science & Technology",
          "Howto & Style",
          "Film & Animation",
          "Howto & Style",
          "Gaming",
          "Music",
          "Music",
          "Music",
          "Comedy",
          "Music",
          "Entertainment",
          "Sports",
          "Entertainment",
          "Music",
          "Sports",
          "Film & Animation",
          "Science & Technology",
          "Sports",
          "Comedy",
          "Entertainment",
          "Entertainment",
          "Howto & Style",
          "Gaming",
          "Entertainment",
          "Entertainment",
          "Sports",
          "People & Blogs",
          "Film & Animation",
          "Gaming",
          "Entertainment",
          "Entertainment",
          "Comedy",
          "Entertainment",
          "Film & Animation",
          "Gaming",
          "Education",
          "Sports",
          "Education",
          "Entertainment",
          "Entertainment",
          "Music",
          "Entertainment",
          "Comedy",
          "Science & Technology",
          "Entertainment",
          "Sports",
          "Music",
          "Sports",
          "Music",
          "Howto & Style",
          "Autos & Vehicles",
          "Music",
          "Sports",
          "Entertainment",
          "Comedy",
          "Entertainment",
          "Entertainment",
          "News & Politics",
          "People & Blogs",
          "Comedy",
          "Sports",
          "Travel & Events",
          "Sports",
          "Entertainment",
          "Comedy",
          "Entertainment",
          "Sports",
          "People & Blogs",
          "Sports",
          "News & Politics",
          "Education",
          "Howto & Style",
          "People & Blogs",
          "Entertainment",
          "Entertainment",
          "Howto & Style",
          "Sports",
          "Gaming",
          "Entertainment",
          "Entertainment",
          "Gaming",
          "Comedy",
          "Sports",
          "Music",
          "Entertainment",
          "Comedy",
          "Entertainment",
          "Entertainment",
          "Entertainment",
          "Music",
          "People & Blogs",
          "Entertainment",
          "Music",
          "News & Politics",
          "Entertainment",
          "Travel & Events",
          "Comedy",
          "Entertainment",
          "Entertainment",
          "Entertainment",
          "Gaming",
          "Gaming",
          "Sports",
          "Autos & Vehicles",
          "Entertainment",
          "Entertainment",
          "Entertainment",
          "People & Blogs",
          "People & Blogs",
          "Comedy",
          "Education",
          "Entertainment",
          "Entertainment",
          "Comedy",
          "Film & Animation",
          "Film & Animation",
          "Gaming",
          "Sports",
          "Sports",
          "Music",
          "News & Politics",
          "Music",
          "Entertainment",
          "Entertainment",
          "Sports",
          "Entertainment",
          "News & Politics",
          "Film & Animation",
          "Science & Technology",
          "Entertainment",
          "Music",
          "Entertainment",
          "Entertainment",
          "Sports",
          "Autos & Vehicles",
          "Sports",
          "Comedy",
          "Sports",
          "Entertainment",
          "Entertainment",
          "Sports",
          "Entertainment",
          "Entertainment",
          "Entertainment",
          "News & Politics",
          "Entertainment",
          "Entertainment",
          "Music",
          "Entertainment",
          "News & Politics",
          "Comedy",
          "Entertainment",
          "Entertainment",
          "Entertainment",
          "Entertainment",
          "Sports",
          "Entertainment",
          "Film & Animation",
          "News & Politics",
          "Sports",
          "Entertainment",
          "Entertainment",
          "Entertainment",
          "Entertainment",
          "Sports",
          "Entertainment",
          "Entertainment",
          "Sports",
          "News & Politics",
          "Music",
          "People & Blogs",
          "News & Politics",
          "Gaming",
          "Music",
          "Comedy",
          "Comedy",
          "People & Blogs",
          "Autos & Vehicles",
          "News & Politics"
         ]
        },
        {
         "histnorm": "probability",
         "name": "DE",
         "type": "histogram",
         "visible": false,
         "x": [
          "Music",
          "Music",
          "Music",
          "Autos & Vehicles",
          "Music",
          "Entertainment",
          "Music",
          "News & Politics",
          "People & Blogs",
          "Entertainment",
          "Music",
          "Entertainment",
          "Music",
          "Entertainment",
          "Entertainment",
          "People & Blogs",
          "Music",
          "Entertainment",
          "Music",
          "People & Blogs",
          "Entertainment",
          "People & Blogs",
          "Entertainment",
          "Sports",
          "Music",
          "Entertainment",
          "Music",
          "Entertainment",
          "Music",
          "News & Politics",
          "Music",
          "Music",
          "Entertainment",
          "Entertainment",
          "Entertainment",
          "Howto & Style",
          "Entertainment",
          "Autos & Vehicles",
          "Entertainment",
          "Entertainment",
          "Autos & Vehicles",
          "Entertainment",
          "People & Blogs",
          "People & Blogs",
          "Entertainment",
          "Entertainment",
          "Autos & Vehicles",
          "Howto & Style",
          "Science & Technology",
          "Howto & Style",
          "People & Blogs",
          "Sports",
          "Entertainment",
          "Music",
          "Entertainment",
          "Entertainment",
          "Music",
          "Entertainment",
          "Music",
          "Entertainment",
          "Sports",
          "Entertainment",
          "People & Blogs",
          "Entertainment",
          "News & Politics",
          "Autos & Vehicles",
          "Hobbies and style",
          "Comedy",
          "Entertainment",
          "Sports",
          "Entertainment",
          "Entertainment",
          "Entertainment",
          "Entertainment",
          "Gaming",
          "Entertainment",
          "News & Politics",
          "Entertainment",
          "Comedy",
          "People & Blogs",
          "Sports",
          "People & Blogs",
          "Science & Technology",
          "Sports",
          "People & Blogs",
          "Sports",
          "Autos & Vehicles",
          "Sports",
          "Education",
          "Entertainment",
          "Entertainment",
          "Science & Technology",
          "People & Blogs",
          "Entertainment",
          "Sports",
          "Sports",
          "Entertainment",
          "Entertainment",
          "People & Blogs",
          "Howto & Style",
          "Science & Technology",
          "Entertainment",
          "Gaming",
          "Music",
          "Music",
          "Entertainment",
          "Howto & Style",
          "Science & Technology",
          "People & Blogs",
          "Gaming",
          "Howto & Style",
          "Entertainment",
          "Entertainment",
          "Entertainment",
          "Music",
          "Sports",
          "Film & Animation",
          "Music",
          "Entertainment",
          "Music",
          "Entertainment",
          "Gaming",
          "Gaming",
          "Sports",
          "Comedy",
          "Gaming",
          "Entertainment",
          "Entertainment",
          "Entertainment",
          "Entertainment",
          "Entertainment",
          "Film & Animation",
          "Gaming",
          "Entertainment",
          "Music",
          "Howto & Style",
          "Sports",
          "Entertainment",
          "News & Politics",
          "Music",
          "Entertainment",
          "Entertainment",
          "Entertainment",
          "Gaming",
          "Entertainment",
          "Sports",
          "Music",
          "Music",
          "Entertainment",
          "Music",
          "Howto & Style",
          "Entertainment",
          "Autos & Vehicles",
          "News & Politics",
          "People & Blogs",
          "Howto & Style",
          "Howto & Style",
          "Entertainment",
          "Entertainment",
          "Entertainment",
          "Comedy",
          "Entertainment",
          "Entertainment",
          "Entertainment",
          "Film & Animation",
          "Education",
          "Gaming",
          "Entertainment",
          "Entertainment",
          "Entertainment",
          "Sports",
          "Music",
          "Sports",
          "Entertainment",
          "Music",
          "People & Blogs",
          "Entertainment",
          "News & Politics",
          "Comedy",
          "Music",
          "Entertainment",
          "Entertainment",
          "Music",
          "Music",
          "Music",
          "Music",
          "Film & Animation",
          "Film & Animation",
          "Entertainment",
          "People & Blogs",
          "People & Blogs",
          "Sports",
          "Sports",
          "News & Politics",
          "News & Politics",
          "Entertainment",
          "Entertainment",
          "Music",
          "Entertainment",
          "People & Blogs"
         ]
        },
        {
         "histnorm": "probability",
         "name": "FR",
         "type": "histogram",
         "visible": false,
         "x": [
          "Comedy",
          "Music",
          "Comedy",
          "Music",
          "Howto & Style",
          "Entertainment",
          "Music",
          "Comedy",
          "Music",
          "Howto & Style",
          "Entertainment",
          "Music",
          "Education",
          "Science & Technology",
          "Howto & Style",
          "Science & Technology",
          "Music",
          "Music",
          "Science & Technology",
          "Entertainment",
          "Music",
          "Music",
          "Music",
          "Sports",
          "Sports",
          "Entertainment",
          "Entertainment",
          "Autos & Vehicles",
          "Music",
          "Gaming",
          "Music",
          "Music",
          "Music",
          "Entertainment",
          "Sports",
          "Entertainment",
          "Music",
          "Music",
          "Music",
          "Sports",
          "Sports",
          "Entertainment",
          "Entertainment",
          "Sports",
          "Entertainment",
          "Comedy",
          "Entertainment",
          "Comedy",
          "Film & Animation",
          "Sports",
          "People & Blogs",
          "Entertainment",
          "Music",
          "Entertainment",
          "Travel & Events",
          "Music",
          "Music",
          "Howto & Style",
          "Entertainment",
          "Science & Technology",
          "Film & Animation",
          "Comedy",
          "Sports",
          "Music",
          "Music",
          "Music",
          "Entertainment",
          "Sports",
          "Music",
          "Music",
          "Howto & Style",
          "Music",
          "Entertainment",
          "Entertainment",
          "Film & Animation",
          "Howto & Style",
          "Entertainment",
          "Music",
          "Howto & Style",
          "Entertainment",
          "Music",
          "Gaming",
          "Entertainment",
          "Education",
          "Science & Technology",
          "Sports",
          "Music",
          "Entertainment",
          "Sports",
          "Gaming",
          "Sports",
          "Education",
          "Entertainment",
          "Music",
          "Entertainment",
          "Howto & Style",
          "Entertainment",
          "Music",
          "Entertainment",
          "Entertainment",
          "Science & Technology",
          "Entertainment",
          "Autos & Vehicles",
          "Music",
          "Howto & Style",
          "Sports",
          "Comedy",
          "Entertainment",
          "Science & Technology",
          "Sports",
          "Music",
          "Music",
          "Entertainment",
          "Entertainment",
          "Education",
          "Science & Technology",
          "Gaming",
          "Sports",
          "Entertainment",
          "Sports",
          "Gaming",
          "Comedy",
          "Education",
          "News & Politics",
          "Sports",
          "Entertainment",
          "Comedy",
          "Sports",
          "Autos & Vehicles",
          "Music",
          "Entertainment",
          "Sports",
          "People & Blogs",
          "Music",
          "Entertainment",
          "Autos & Vehicles",
          "Film & Animation",
          "Entertainment",
          "Howto & Style",
          "Sports",
          "Entertainment",
          "News & Politics",
          "Howto & Style",
          "Entertainment",
          "Comedy",
          "Music",
          "Comedy",
          "Comedy",
          "Autos & Vehicles",
          "People & Blogs",
          "Entertainment",
          "Science & Technology",
          "News & Politics",
          "Entertainment",
          "Music",
          "Pets & Animals",
          "Howto & Style",
          "Comedy",
          "Autos & Vehicles",
          "Howto & Style",
          "Howto & Style",
          "Autos & Vehicles",
          "Comedy",
          "Music",
          "Music",
          "Autos & Vehicles",
          "Entertainment",
          "Entertainment",
          "News & Politics",
          "Entertainment",
          "Music",
          "Music",
          "Entertainment",
          "Entertainment",
          "Comedy",
          "Comedy",
          "Music",
          "Sports",
          "News & Politics",
          "Music",
          "Music",
          "Sports",
          "Comedy",
          "Comedy",
          "Music",
          "Sports",
          "Sports",
          "News & Politics",
          "Music",
          "Music",
          "Entertainment",
          "Music",
          "People & Blogs",
          "Sports",
          "Entertainment",
          "Entertainment",
          "Entertainment",
          "Howto & Style",
          "People & Blogs",
          "People & Blogs"
         ]
        },
        {
         "histnorm": "probability",
         "name": "RU",
         "type": "histogram",
         "visible": false,
         "x": [
          "Entertainment",
          "Entertainment",
          "Comedy",
          "Music",
          "People & Blogs",
          "Entertainment",
          "Entertainment",
          "Pets & Animals",
          "Film & Animation",
          "Pets & Animals",
          "Comedy",
          "Entertainment",
          "People & Blogs",
          "Sports",
          "Entertainment",
          "Entertainment",
          "Autos & Vehicles",
          "People & Blogs",
          "Sports",
          "Society",
          "People & Blogs",
          "Sports",
          "People & Blogs",
          "Entertainment",
          "People & Blogs",
          "Film & Animation",
          "Howto & Style",
          "Entertainment",
          "People & Blogs",
          "People & Blogs",
          "Howto & Style",
          "Society",
          "People & Blogs",
          "People & Blogs",
          "People & Blogs",
          "Entertainment",
          "News & Politics",
          "Entertainment",
          "Autos & Vehicles",
          "Sports",
          "Entertainment",
          "People & Blogs",
          "Comedy",
          "Music",
          "Sports",
          "Comedy",
          "Science & Technology",
          "Sports",
          "People & Blogs",
          "Comedy",
          "People & Blogs",
          "Entertainment",
          "Music",
          "Comedy",
          "Entertainment",
          "Science & Technology",
          "News & Politics",
          "News & Politics",
          "Science & Technology",
          "Entertainment",
          "Society",
          "News & Politics",
          "Music",
          "People & Blogs",
          "Film & Animation",
          "People & Blogs",
          "Entertainment",
          "Entertainment",
          "Comedy",
          "Autos & Vehicles",
          "News & Politics",
          "Film & Animation",
          "Entertainment",
          "Entertainment",
          "Entertainment",
          "Music",
          "People & Blogs",
          "People & Blogs",
          "Entertainment",
          "Film & Animation",
          "Howto & Style",
          "News & Politics",
          "People & Blogs",
          "Howto & Style",
          "People & Blogs",
          "News & Politics",
          "Entertainment",
          "Autos & Vehicles",
          "People & Blogs",
          "Entertainment",
          "Film & Animation",
          "News & Politics",
          "News & Politics",
          "Entertainment",
          "Science & Technology",
          "Sports",
          "Sports",
          "People & Blogs",
          "News & Politics",
          "Society",
          "Entertainment",
          "Entertainment",
          "Sports",
          "Sports",
          "Film & Animation",
          "Howto & Style",
          "People & Blogs",
          "Comedy",
          "People & Blogs",
          "Autos & Vehicles",
          "Sports",
          "Entertainment",
          "News & Politics",
          "Autos & Vehicles",
          "Sports",
          "News & Politics",
          "Film & Animation",
          "Entertainment",
          "News & Politics",
          "Film & Animation",
          "Entertainment",
          "Gaming",
          "Travel & Events",
          "Autos & Vehicles",
          "People & Blogs",
          "Film & Animation",
          "Entertainment",
          "Comedy",
          "Gaming",
          "Entertainment",
          "News & Politics",
          "Music",
          "People & Blogs",
          "People & Blogs",
          "People & Blogs",
          "Science & Technology",
          "Autos & Vehicles",
          "Film & Animation",
          "Science & Technology",
          "People & Blogs",
          "Howto & Style",
          "News & Politics",
          "Gaming",
          "Comedy",
          "News & Politics",
          "News & Politics",
          "Science & Technology",
          "People & Blogs",
          "Entertainment",
          "Science & Technology",
          "People & Blogs",
          "Comedy",
          "Sports",
          "People & Blogs",
          "People & Blogs",
          "Science & Technology",
          "People & Blogs",
          "Gaming",
          "Gaming",
          "Music",
          "Music",
          "Autos & Vehicles",
          "Pets & Animals",
          "People & Blogs",
          "Autos & Vehicles",
          "Entertainment",
          "People & Blogs",
          "News & Politics",
          "Entertainment",
          "Entertainment",
          "Gaming",
          "Science & Technology",
          "Film & Animation",
          "People & Blogs",
          "Entertainment",
          "Gaming",
          "News & Politics",
          "Entertainment",
          "Film & Animation",
          "Film & Animation",
          "Film & Animation",
          "Society",
          "Film & Animation",
          "Science & Technology",
          "People & Blogs",
          "Pets & Animals",
          "People & Blogs",
          "Autos & Vehicles",
          "Entertainment",
          "Howto & Style",
          "Gaming",
          "Autos & Vehicles",
          "People & Blogs",
          "Sports",
          "Entertainment",
          "Autos & Vehicles",
          "Entertainment",
          "News & Politics",
          "Autos & Vehicles",
          "Autos & Vehicles"
         ]
        }
       ],
       "layout": {
        "template": {
         "data": {
          "bar": [
           {
            "error_x": {
             "color": "#2a3f5f"
            },
            "error_y": {
             "color": "#2a3f5f"
            },
            "marker": {
             "line": {
              "color": "#E5ECF6",
              "width": 0.5
             }
            },
            "type": "bar"
           }
          ],
          "barpolar": [
           {
            "marker": {
             "line": {
              "color": "#E5ECF6",
              "width": 0.5
             }
            },
            "type": "barpolar"
           }
          ],
          "carpet": [
           {
            "aaxis": {
             "endlinecolor": "#2a3f5f",
             "gridcolor": "white",
             "linecolor": "white",
             "minorgridcolor": "white",
             "startlinecolor": "#2a3f5f"
            },
            "baxis": {
             "endlinecolor": "#2a3f5f",
             "gridcolor": "white",
             "linecolor": "white",
             "minorgridcolor": "white",
             "startlinecolor": "#2a3f5f"
            },
            "type": "carpet"
           }
          ],
          "choropleth": [
           {
            "colorbar": {
             "outlinewidth": 0,
             "ticks": ""
            },
            "type": "choropleth"
           }
          ],
          "contour": [
           {
            "colorbar": {
             "outlinewidth": 0,
             "ticks": ""
            },
            "colorscale": [
             [
              0,
              "#0d0887"
             ],
             [
              0.1111111111111111,
              "#46039f"
             ],
             [
              0.2222222222222222,
              "#7201a8"
             ],
             [
              0.3333333333333333,
              "#9c179e"
             ],
             [
              0.4444444444444444,
              "#bd3786"
             ],
             [
              0.5555555555555556,
              "#d8576b"
             ],
             [
              0.6666666666666666,
              "#ed7953"
             ],
             [
              0.7777777777777778,
              "#fb9f3a"
             ],
             [
              0.8888888888888888,
              "#fdca26"
             ],
             [
              1,
              "#f0f921"
             ]
            ],
            "type": "contour"
           }
          ],
          "contourcarpet": [
           {
            "colorbar": {
             "outlinewidth": 0,
             "ticks": ""
            },
            "type": "contourcarpet"
           }
          ],
          "heatmap": [
           {
            "colorbar": {
             "outlinewidth": 0,
             "ticks": ""
            },
            "colorscale": [
             [
              0,
              "#0d0887"
             ],
             [
              0.1111111111111111,
              "#46039f"
             ],
             [
              0.2222222222222222,
              "#7201a8"
             ],
             [
              0.3333333333333333,
              "#9c179e"
             ],
             [
              0.4444444444444444,
              "#bd3786"
             ],
             [
              0.5555555555555556,
              "#d8576b"
             ],
             [
              0.6666666666666666,
              "#ed7953"
             ],
             [
              0.7777777777777778,
              "#fb9f3a"
             ],
             [
              0.8888888888888888,
              "#fdca26"
             ],
             [
              1,
              "#f0f921"
             ]
            ],
            "type": "heatmap"
           }
          ],
          "heatmapgl": [
           {
            "colorbar": {
             "outlinewidth": 0,
             "ticks": ""
            },
            "colorscale": [
             [
              0,
              "#0d0887"
             ],
             [
              0.1111111111111111,
              "#46039f"
             ],
             [
              0.2222222222222222,
              "#7201a8"
             ],
             [
              0.3333333333333333,
              "#9c179e"
             ],
             [
              0.4444444444444444,
              "#bd3786"
             ],
             [
              0.5555555555555556,
              "#d8576b"
             ],
             [
              0.6666666666666666,
              "#ed7953"
             ],
             [
              0.7777777777777778,
              "#fb9f3a"
             ],
             [
              0.8888888888888888,
              "#fdca26"
             ],
             [
              1,
              "#f0f921"
             ]
            ],
            "type": "heatmapgl"
           }
          ],
          "histogram": [
           {
            "marker": {
             "colorbar": {
              "outlinewidth": 0,
              "ticks": ""
             }
            },
            "type": "histogram"
           }
          ],
          "histogram2d": [
           {
            "colorbar": {
             "outlinewidth": 0,
             "ticks": ""
            },
            "colorscale": [
             [
              0,
              "#0d0887"
             ],
             [
              0.1111111111111111,
              "#46039f"
             ],
             [
              0.2222222222222222,
              "#7201a8"
             ],
             [
              0.3333333333333333,
              "#9c179e"
             ],
             [
              0.4444444444444444,
              "#bd3786"
             ],
             [
              0.5555555555555556,
              "#d8576b"
             ],
             [
              0.6666666666666666,
              "#ed7953"
             ],
             [
              0.7777777777777778,
              "#fb9f3a"
             ],
             [
              0.8888888888888888,
              "#fdca26"
             ],
             [
              1,
              "#f0f921"
             ]
            ],
            "type": "histogram2d"
           }
          ],
          "histogram2dcontour": [
           {
            "colorbar": {
             "outlinewidth": 0,
             "ticks": ""
            },
            "colorscale": [
             [
              0,
              "#0d0887"
             ],
             [
              0.1111111111111111,
              "#46039f"
             ],
             [
              0.2222222222222222,
              "#7201a8"
             ],
             [
              0.3333333333333333,
              "#9c179e"
             ],
             [
              0.4444444444444444,
              "#bd3786"
             ],
             [
              0.5555555555555556,
              "#d8576b"
             ],
             [
              0.6666666666666666,
              "#ed7953"
             ],
             [
              0.7777777777777778,
              "#fb9f3a"
             ],
             [
              0.8888888888888888,
              "#fdca26"
             ],
             [
              1,
              "#f0f921"
             ]
            ],
            "type": "histogram2dcontour"
           }
          ],
          "mesh3d": [
           {
            "colorbar": {
             "outlinewidth": 0,
             "ticks": ""
            },
            "type": "mesh3d"
           }
          ],
          "parcoords": [
           {
            "line": {
             "colorbar": {
              "outlinewidth": 0,
              "ticks": ""
             }
            },
            "type": "parcoords"
           }
          ],
          "pie": [
           {
            "automargin": true,
            "type": "pie"
           }
          ],
          "scatter": [
           {
            "marker": {
             "colorbar": {
              "outlinewidth": 0,
              "ticks": ""
             }
            },
            "type": "scatter"
           }
          ],
          "scatter3d": [
           {
            "line": {
             "colorbar": {
              "outlinewidth": 0,
              "ticks": ""
             }
            },
            "marker": {
             "colorbar": {
              "outlinewidth": 0,
              "ticks": ""
             }
            },
            "type": "scatter3d"
           }
          ],
          "scattercarpet": [
           {
            "marker": {
             "colorbar": {
              "outlinewidth": 0,
              "ticks": ""
             }
            },
            "type": "scattercarpet"
           }
          ],
          "scattergeo": [
           {
            "marker": {
             "colorbar": {
              "outlinewidth": 0,
              "ticks": ""
             }
            },
            "type": "scattergeo"
           }
          ],
          "scattergl": [
           {
            "marker": {
             "colorbar": {
              "outlinewidth": 0,
              "ticks": ""
             }
            },
            "type": "scattergl"
           }
          ],
          "scattermapbox": [
           {
            "marker": {
             "colorbar": {
              "outlinewidth": 0,
              "ticks": ""
             }
            },
            "type": "scattermapbox"
           }
          ],
          "scatterpolar": [
           {
            "marker": {
             "colorbar": {
              "outlinewidth": 0,
              "ticks": ""
             }
            },
            "type": "scatterpolar"
           }
          ],
          "scatterpolargl": [
           {
            "marker": {
             "colorbar": {
              "outlinewidth": 0,
              "ticks": ""
             }
            },
            "type": "scatterpolargl"
           }
          ],
          "scatterternary": [
           {
            "marker": {
             "colorbar": {
              "outlinewidth": 0,
              "ticks": ""
             }
            },
            "type": "scatterternary"
           }
          ],
          "surface": [
           {
            "colorbar": {
             "outlinewidth": 0,
             "ticks": ""
            },
            "colorscale": [
             [
              0,
              "#0d0887"
             ],
             [
              0.1111111111111111,
              "#46039f"
             ],
             [
              0.2222222222222222,
              "#7201a8"
             ],
             [
              0.3333333333333333,
              "#9c179e"
             ],
             [
              0.4444444444444444,
              "#bd3786"
             ],
             [
              0.5555555555555556,
              "#d8576b"
             ],
             [
              0.6666666666666666,
              "#ed7953"
             ],
             [
              0.7777777777777778,
              "#fb9f3a"
             ],
             [
              0.8888888888888888,
              "#fdca26"
             ],
             [
              1,
              "#f0f921"
             ]
            ],
            "type": "surface"
           }
          ],
          "table": [
           {
            "cells": {
             "fill": {
              "color": "#EBF0F8"
             },
             "line": {
              "color": "white"
             }
            },
            "header": {
             "fill": {
              "color": "#C8D4E3"
             },
             "line": {
              "color": "white"
             }
            },
            "type": "table"
           }
          ]
         },
         "layout": {
          "annotationdefaults": {
           "arrowcolor": "#2a3f5f",
           "arrowhead": 0,
           "arrowwidth": 1
          },
          "coloraxis": {
           "colorbar": {
            "outlinewidth": 0,
            "ticks": ""
           }
          },
          "colorscale": {
           "diverging": [
            [
             0,
             "#8e0152"
            ],
            [
             0.1,
             "#c51b7d"
            ],
            [
             0.2,
             "#de77ae"
            ],
            [
             0.3,
             "#f1b6da"
            ],
            [
             0.4,
             "#fde0ef"
            ],
            [
             0.5,
             "#f7f7f7"
            ],
            [
             0.6,
             "#e6f5d0"
            ],
            [
             0.7,
             "#b8e186"
            ],
            [
             0.8,
             "#7fbc41"
            ],
            [
             0.9,
             "#4d9221"
            ],
            [
             1,
             "#276419"
            ]
           ],
           "sequential": [
            [
             0,
             "#0d0887"
            ],
            [
             0.1111111111111111,
             "#46039f"
            ],
            [
             0.2222222222222222,
             "#7201a8"
            ],
            [
             0.3333333333333333,
             "#9c179e"
            ],
            [
             0.4444444444444444,
             "#bd3786"
            ],
            [
             0.5555555555555556,
             "#d8576b"
            ],
            [
             0.6666666666666666,
             "#ed7953"
            ],
            [
             0.7777777777777778,
             "#fb9f3a"
            ],
            [
             0.8888888888888888,
             "#fdca26"
            ],
            [
             1,
             "#f0f921"
            ]
           ],
           "sequentialminus": [
            [
             0,
             "#0d0887"
            ],
            [
             0.1111111111111111,
             "#46039f"
            ],
            [
             0.2222222222222222,
             "#7201a8"
            ],
            [
             0.3333333333333333,
             "#9c179e"
            ],
            [
             0.4444444444444444,
             "#bd3786"
            ],
            [
             0.5555555555555556,
             "#d8576b"
            ],
            [
             0.6666666666666666,
             "#ed7953"
            ],
            [
             0.7777777777777778,
             "#fb9f3a"
            ],
            [
             0.8888888888888888,
             "#fdca26"
            ],
            [
             1,
             "#f0f921"
            ]
           ]
          },
          "colorway": [
           "#636efa",
           "#EF553B",
           "#00cc96",
           "#ab63fa",
           "#FFA15A",
           "#19d3f3",
           "#FF6692",
           "#B6E880",
           "#FF97FF",
           "#FECB52"
          ],
          "font": {
           "color": "#2a3f5f"
          },
          "geo": {
           "bgcolor": "white",
           "lakecolor": "white",
           "landcolor": "#E5ECF6",
           "showlakes": true,
           "showland": true,
           "subunitcolor": "white"
          },
          "hoverlabel": {
           "align": "left"
          },
          "hovermode": "closest",
          "mapbox": {
           "style": "light"
          },
          "paper_bgcolor": "white",
          "plot_bgcolor": "#E5ECF6",
          "polar": {
           "angularaxis": {
            "gridcolor": "white",
            "linecolor": "white",
            "ticks": ""
           },
           "bgcolor": "#E5ECF6",
           "radialaxis": {
            "gridcolor": "white",
            "linecolor": "white",
            "ticks": ""
           }
          },
          "scene": {
           "xaxis": {
            "backgroundcolor": "#E5ECF6",
            "gridcolor": "white",
            "gridwidth": 2,
            "linecolor": "white",
            "showbackground": true,
            "ticks": "",
            "zerolinecolor": "white"
           },
           "yaxis": {
            "backgroundcolor": "#E5ECF6",
            "gridcolor": "white",
            "gridwidth": 2,
            "linecolor": "white",
            "showbackground": true,
            "ticks": "",
            "zerolinecolor": "white"
           },
           "zaxis": {
            "backgroundcolor": "#E5ECF6",
            "gridcolor": "white",
            "gridwidth": 2,
            "linecolor": "white",
            "showbackground": true,
            "ticks": "",
            "zerolinecolor": "white"
           }
          },
          "shapedefaults": {
           "line": {
            "color": "#2a3f5f"
           }
          },
          "ternary": {
           "aaxis": {
            "gridcolor": "white",
            "linecolor": "white",
            "ticks": ""
           },
           "baxis": {
            "gridcolor": "white",
            "linecolor": "white",
            "ticks": ""
           },
           "bgcolor": "#E5ECF6",
           "caxis": {
            "gridcolor": "white",
            "linecolor": "white",
            "ticks": ""
           }
          },
          "title": {
           "x": 0.05
          },
          "xaxis": {
           "automargin": true,
           "gridcolor": "white",
           "linecolor": "white",
           "ticks": "",
           "title": {
            "standoff": 15
           },
           "zerolinecolor": "white",
           "zerolinewidth": 2
          },
          "yaxis": {
           "automargin": true,
           "gridcolor": "white",
           "linecolor": "white",
           "ticks": "",
           "title": {
            "standoff": 15
           },
           "zerolinecolor": "white",
           "zerolinewidth": 2
          }
         }
        },
        "title": {
         "text": "Сategorization of videos by genre popularity"
        },
        "updatemenus": [
         {
          "buttons": [
           {
            "args": [
             "visible",
             [
              true,
              false,
              false,
              false,
              false
             ]
            ],
            "label": "US",
            "method": "restyle"
           },
           {
            "args": [
             "visible",
             [
              false,
              true,
              false,
              false,
              false
             ]
            ],
            "label": "GB",
            "method": "restyle"
           },
           {
            "args": [
             "visible",
             [
              false,
              false,
              true,
              false,
              false
             ]
            ],
            "label": "DE",
            "method": "restyle"
           },
           {
            "args": [
             "visible",
             [
              false,
              false,
              false,
              true,
              false
             ]
            ],
            "label": "FR",
            "method": "restyle"
           },
           {
            "args": [
             "visible",
             [
              false,
              false,
              false,
              false,
              true
             ]
            ],
            "label": "RU",
            "method": "restyle"
           }
          ],
          "x": -0.05,
          "y": 1,
          "yanchor": "top"
         }
        ],
        "xaxis": {
         "title": {
          "text": "category"
         }
        },
        "yaxis": {
         "title": {
          "text": "share"
         }
        }
       }
      },
      "text/html": [
       "<div>\n",
       "        \n",
       "        \n",
       "            <div id=\"5b61dfd6-dcca-4db0-9e53-30d9e82d3879\" class=\"plotly-graph-div\" style=\"height:525px; width:100%;\"></div>\n",
       "            <script type=\"text/javascript\">\n",
       "                require([\"plotly\"], function(Plotly) {\n",
       "                    window.PLOTLYENV=window.PLOTLYENV || {};\n",
       "                    \n",
       "                if (document.getElementById(\"5b61dfd6-dcca-4db0-9e53-30d9e82d3879\")) {\n",
       "                    Plotly.newPlot(\n",
       "                        '5b61dfd6-dcca-4db0-9e53-30d9e82d3879',\n",
       "                        [{\"histnorm\": \"probability\", \"name\": \"US\", \"type\": \"histogram\", \"visible\": true, \"x\": [\"Music\", \"People & Blogs\", \"Music\", \"Music\", \"Music\", \"Music\", \"Entertainment\", \"Music\", \"Music\", \"Comedy\", \"Music\", \"Music\", \"Howto & Style\", \"Sports\", \"Music\", \"News & Politics\", \"Entertainment\", \"Entertainment\", \"Entertainment\", \"Entertainment\", \"Sports\", \"Entertainment\", \"Entertainment\", \"Entertainment\", \"Science & Technology\", \"Music\", \"Music\", \"Music\", \"Music\", \"Film & Animation\", \"Entertainment\", \"Entertainment\", \"Comedy\", \"Comedy\", \"Comedy\", \"Sports\", \"People & Blogs\", \"Howto & Style\", \"News & Politics\", \"Entertainment\", \"People & Blogs\", \"Entertainment\", \"Film & Animation\", \"Music\", \"Entertainment\", \"Gaming\", \"Science & Technology\", \"Howto & Style\", \"Entertainment\", \"Entertainment\", \"Entertainment\", \"Film & Animation\", \"Music\", \"Comedy\", \"Education\", \"People & Blogs\", \"Entertainment\", \"Entertainment\", \"Gaming\", \"News & Politics\", \"Comedy\", \"Sports\", \"Entertainment\", \"Entertainment\", \"Education\", \"News & Politics\", \"Music\", \"Comedy\", \"People & Blogs\", \"Entertainment\", \"Entertainment\", \"News & Politics\", \"People & Blogs\", \"Entertainment\", \"Entertainment\", \"Entertainment\", \"Entertainment\", \"Entertainment\", \"Education\", \"Comedy\", \"Sports\", \"News & Politics\", \"Music\", \"Comedy\", \"Entertainment\", \"Sports\", \"Sports\", \"Howto & Style\", \"Entertainment\", \"Entertainment\", \"Howto & Style\", \"Entertainment\", \"Autos & Vehicles\", \"Autos & Vehicles\", \"Entertainment\", \"Comedy\", \"Music\", \"Autos & Vehicles\", \"Comedy\", \"Autos & Vehicles\", \"People & Blogs\", \"Entertainment\", \"News & Politics\", \"Gaming\", \"Entertainment\", \"Music\", \"Entertainment\", \"Sports\", \"Entertainment\", \"Comedy\", \"Music\", \"People & Blogs\", \"Entertainment\", \"People & Blogs\", \"Music\", \"News & Politics\", \"Comedy\", \"Entertainment\", \"Autos & Vehicles\", \"Entertainment\", \"Comedy\", \"Music\", \"Entertainment\", \"News & Politics\", \"People & Blogs\", \"Sports\", \"Entertainment\", \"Comedy\", \"Entertainment\", \"People & Blogs\", \"Comedy\", \"People & Blogs\", \"Gaming\", \"News & Politics\", \"Entertainment\", \"Comedy\", \"Entertainment\", \"Comedy\", \"People & Blogs\", \"Education\", \"People & Blogs\", \"Sports\", \"Entertainment\", \"Film & Animation\", \"Entertainment\", \"Entertainment\", \"Entertainment\", \"Entertainment\", \"Entertainment\", \"Film & Animation\", \"Entertainment\", \"Sports\", \"Entertainment\", \"Sports\", \"News & Politics\", \"Science & Technology\", \"Entertainment\", \"Entertainment\", \"Sports\", \"News & Politics\", \"Comedy\", \"Entertainment\", \"Entertainment\", \"Autos & Vehicles\", \"Sports\", \"Howto & Style\", \"Howto & Style\", \"Entertainment\", \"Entertainment\", \"News & Politics\", \"Music\", \"Sports\", \"Comedy\", \"Sports\", \"Entertainment\", \"Sports\", \"Sports\", \"People & Blogs\", \"Music\", \"Film & Animation\", \"Film & Animation\", \"Comedy\", \"Entertainment\", \"Entertainment\", \"Music\", \"People & Blogs\", \"Comedy\", \"Music\", \"Entertainment\", \"News & Politics\", \"Comedy\", \"Sports\", \"Music\", \"Entertainment\", \"Entertainment\", \"Music\", \"Science & Technology\", \"Music\", \"Music\", \"Comedy\"]}, {\"histnorm\": \"probability\", \"name\": \"GB\", \"type\": \"histogram\", \"visible\": false, \"x\": [\"Entertainment\", \"Music\", \"Music\", \"News & Politics\", \"People & Blogs\", \"Entertainment\", \"Sports\", \"Sports\", \"Autos & Vehicles\", \"Entertainment\", \"Music\", \"Entertainment\", \"Entertainment\", \"Music\", \"Comedy\", \"Music\", \"Music\", \"Howto & Style\", \"Music\", \"Music\", \"Sports\", \"Science & Technology\", \"Howto & Style\", \"Film & Animation\", \"Howto & Style\", \"Gaming\", \"Music\", \"Music\", \"Music\", \"Comedy\", \"Music\", \"Entertainment\", \"Sports\", \"Entertainment\", \"Music\", \"Sports\", \"Film & Animation\", \"Science & Technology\", \"Sports\", \"Comedy\", \"Entertainment\", \"Entertainment\", \"Howto & Style\", \"Gaming\", \"Entertainment\", \"Entertainment\", \"Sports\", \"People & Blogs\", \"Film & Animation\", \"Gaming\", \"Entertainment\", \"Entertainment\", \"Comedy\", \"Entertainment\", \"Film & Animation\", \"Gaming\", \"Education\", \"Sports\", \"Education\", \"Entertainment\", \"Entertainment\", \"Music\", \"Entertainment\", \"Comedy\", \"Science & Technology\", \"Entertainment\", \"Sports\", \"Music\", \"Sports\", \"Music\", \"Howto & Style\", \"Autos & Vehicles\", \"Music\", \"Sports\", \"Entertainment\", \"Comedy\", \"Entertainment\", \"Entertainment\", \"News & Politics\", \"People & Blogs\", \"Comedy\", \"Sports\", \"Travel & Events\", \"Sports\", \"Entertainment\", \"Comedy\", \"Entertainment\", \"Sports\", \"People & Blogs\", \"Sports\", \"News & Politics\", \"Education\", \"Howto & Style\", \"People & Blogs\", \"Entertainment\", \"Entertainment\", \"Howto & Style\", \"Sports\", \"Gaming\", \"Entertainment\", \"Entertainment\", \"Gaming\", \"Comedy\", \"Sports\", \"Music\", \"Entertainment\", \"Comedy\", \"Entertainment\", \"Entertainment\", \"Entertainment\", \"Music\", \"People & Blogs\", \"Entertainment\", \"Music\", \"News & Politics\", \"Entertainment\", \"Travel & Events\", \"Comedy\", \"Entertainment\", \"Entertainment\", \"Entertainment\", \"Gaming\", \"Gaming\", \"Sports\", \"Autos & Vehicles\", \"Entertainment\", \"Entertainment\", \"Entertainment\", \"People & Blogs\", \"People & Blogs\", \"Comedy\", \"Education\", \"Entertainment\", \"Entertainment\", \"Comedy\", \"Film & Animation\", \"Film & Animation\", \"Gaming\", \"Sports\", \"Sports\", \"Music\", \"News & Politics\", \"Music\", \"Entertainment\", \"Entertainment\", \"Sports\", \"Entertainment\", \"News & Politics\", \"Film & Animation\", \"Science & Technology\", \"Entertainment\", \"Music\", \"Entertainment\", \"Entertainment\", \"Sports\", \"Autos & Vehicles\", \"Sports\", \"Comedy\", \"Sports\", \"Entertainment\", \"Entertainment\", \"Sports\", \"Entertainment\", \"Entertainment\", \"Entertainment\", \"News & Politics\", \"Entertainment\", \"Entertainment\", \"Music\", \"Entertainment\", \"News & Politics\", \"Comedy\", \"Entertainment\", \"Entertainment\", \"Entertainment\", \"Entertainment\", \"Sports\", \"Entertainment\", \"Film & Animation\", \"News & Politics\", \"Sports\", \"Entertainment\", \"Entertainment\", \"Entertainment\", \"Entertainment\", \"Sports\", \"Entertainment\", \"Entertainment\", \"Sports\", \"News & Politics\", \"Music\", \"People & Blogs\", \"News & Politics\", \"Gaming\", \"Music\", \"Comedy\", \"Comedy\", \"People & Blogs\", \"Autos & Vehicles\", \"News & Politics\"]}, {\"histnorm\": \"probability\", \"name\": \"DE\", \"type\": \"histogram\", \"visible\": false, \"x\": [\"Music\", \"Music\", \"Music\", \"Autos & Vehicles\", \"Music\", \"Entertainment\", \"Music\", \"News & Politics\", \"People & Blogs\", \"Entertainment\", \"Music\", \"Entertainment\", \"Music\", \"Entertainment\", \"Entertainment\", \"People & Blogs\", \"Music\", \"Entertainment\", \"Music\", \"People & Blogs\", \"Entertainment\", \"People & Blogs\", \"Entertainment\", \"Sports\", \"Music\", \"Entertainment\", \"Music\", \"Entertainment\", \"Music\", \"News & Politics\", \"Music\", \"Music\", \"Entertainment\", \"Entertainment\", \"Entertainment\", \"Howto & Style\", \"Entertainment\", \"Autos & Vehicles\", \"Entertainment\", \"Entertainment\", \"Autos & Vehicles\", \"Entertainment\", \"People & Blogs\", \"People & Blogs\", \"Entertainment\", \"Entertainment\", \"Autos & Vehicles\", \"Howto & Style\", \"Science & Technology\", \"Howto & Style\", \"People & Blogs\", \"Sports\", \"Entertainment\", \"Music\", \"Entertainment\", \"Entertainment\", \"Music\", \"Entertainment\", \"Music\", \"Entertainment\", \"Sports\", \"Entertainment\", \"People & Blogs\", \"Entertainment\", \"News & Politics\", \"Autos & Vehicles\", \"Hobbies and style\", \"Comedy\", \"Entertainment\", \"Sports\", \"Entertainment\", \"Entertainment\", \"Entertainment\", \"Entertainment\", \"Gaming\", \"Entertainment\", \"News & Politics\", \"Entertainment\", \"Comedy\", \"People & Blogs\", \"Sports\", \"People & Blogs\", \"Science & Technology\", \"Sports\", \"People & Blogs\", \"Sports\", \"Autos & Vehicles\", \"Sports\", \"Education\", \"Entertainment\", \"Entertainment\", \"Science & Technology\", \"People & Blogs\", \"Entertainment\", \"Sports\", \"Sports\", \"Entertainment\", \"Entertainment\", \"People & Blogs\", \"Howto & Style\", \"Science & Technology\", \"Entertainment\", \"Gaming\", \"Music\", \"Music\", \"Entertainment\", \"Howto & Style\", \"Science & Technology\", \"People & Blogs\", \"Gaming\", \"Howto & Style\", \"Entertainment\", \"Entertainment\", \"Entertainment\", \"Music\", \"Sports\", \"Film & Animation\", \"Music\", \"Entertainment\", \"Music\", \"Entertainment\", \"Gaming\", \"Gaming\", \"Sports\", \"Comedy\", \"Gaming\", \"Entertainment\", \"Entertainment\", \"Entertainment\", \"Entertainment\", \"Entertainment\", \"Film & Animation\", \"Gaming\", \"Entertainment\", \"Music\", \"Howto & Style\", \"Sports\", \"Entertainment\", \"News & Politics\", \"Music\", \"Entertainment\", \"Entertainment\", \"Entertainment\", \"Gaming\", \"Entertainment\", \"Sports\", \"Music\", \"Music\", \"Entertainment\", \"Music\", \"Howto & Style\", \"Entertainment\", \"Autos & Vehicles\", \"News & Politics\", \"People & Blogs\", \"Howto & Style\", \"Howto & Style\", \"Entertainment\", \"Entertainment\", \"Entertainment\", \"Comedy\", \"Entertainment\", \"Entertainment\", \"Entertainment\", \"Film & Animation\", \"Education\", \"Gaming\", \"Entertainment\", \"Entertainment\", \"Entertainment\", \"Sports\", \"Music\", \"Sports\", \"Entertainment\", \"Music\", \"People & Blogs\", \"Entertainment\", \"News & Politics\", \"Comedy\", \"Music\", \"Entertainment\", \"Entertainment\", \"Music\", \"Music\", \"Music\", \"Music\", \"Film & Animation\", \"Film & Animation\", \"Entertainment\", \"People & Blogs\", \"People & Blogs\", \"Sports\", \"Sports\", \"News & Politics\", \"News & Politics\", \"Entertainment\", \"Entertainment\", \"Music\", \"Entertainment\", \"People & Blogs\"]}, {\"histnorm\": \"probability\", \"name\": \"FR\", \"type\": \"histogram\", \"visible\": false, \"x\": [\"Comedy\", \"Music\", \"Comedy\", \"Music\", \"Howto & Style\", \"Entertainment\", \"Music\", \"Comedy\", \"Music\", \"Howto & Style\", \"Entertainment\", \"Music\", \"Education\", \"Science & Technology\", \"Howto & Style\", \"Science & Technology\", \"Music\", \"Music\", \"Science & Technology\", \"Entertainment\", \"Music\", \"Music\", \"Music\", \"Sports\", \"Sports\", \"Entertainment\", \"Entertainment\", \"Autos & Vehicles\", \"Music\", \"Gaming\", \"Music\", \"Music\", \"Music\", \"Entertainment\", \"Sports\", \"Entertainment\", \"Music\", \"Music\", \"Music\", \"Sports\", \"Sports\", \"Entertainment\", \"Entertainment\", \"Sports\", \"Entertainment\", \"Comedy\", \"Entertainment\", \"Comedy\", \"Film & Animation\", \"Sports\", \"People & Blogs\", \"Entertainment\", \"Music\", \"Entertainment\", \"Travel & Events\", \"Music\", \"Music\", \"Howto & Style\", \"Entertainment\", \"Science & Technology\", \"Film & Animation\", \"Comedy\", \"Sports\", \"Music\", \"Music\", \"Music\", \"Entertainment\", \"Sports\", \"Music\", \"Music\", \"Howto & Style\", \"Music\", \"Entertainment\", \"Entertainment\", \"Film & Animation\", \"Howto & Style\", \"Entertainment\", \"Music\", \"Howto & Style\", \"Entertainment\", \"Music\", \"Gaming\", \"Entertainment\", \"Education\", \"Science & Technology\", \"Sports\", \"Music\", \"Entertainment\", \"Sports\", \"Gaming\", \"Sports\", \"Education\", \"Entertainment\", \"Music\", \"Entertainment\", \"Howto & Style\", \"Entertainment\", \"Music\", \"Entertainment\", \"Entertainment\", \"Science & Technology\", \"Entertainment\", \"Autos & Vehicles\", \"Music\", \"Howto & Style\", \"Sports\", \"Comedy\", \"Entertainment\", \"Science & Technology\", \"Sports\", \"Music\", \"Music\", \"Entertainment\", \"Entertainment\", \"Education\", \"Science & Technology\", \"Gaming\", \"Sports\", \"Entertainment\", \"Sports\", \"Gaming\", \"Comedy\", \"Education\", \"News & Politics\", \"Sports\", \"Entertainment\", \"Comedy\", \"Sports\", \"Autos & Vehicles\", \"Music\", \"Entertainment\", \"Sports\", \"People & Blogs\", \"Music\", \"Entertainment\", \"Autos & Vehicles\", \"Film & Animation\", \"Entertainment\", \"Howto & Style\", \"Sports\", \"Entertainment\", \"News & Politics\", \"Howto & Style\", \"Entertainment\", \"Comedy\", \"Music\", \"Comedy\", \"Comedy\", \"Autos & Vehicles\", \"People & Blogs\", \"Entertainment\", \"Science & Technology\", \"News & Politics\", \"Entertainment\", \"Music\", \"Pets & Animals\", \"Howto & Style\", \"Comedy\", \"Autos & Vehicles\", \"Howto & Style\", \"Howto & Style\", \"Autos & Vehicles\", \"Comedy\", \"Music\", \"Music\", \"Autos & Vehicles\", \"Entertainment\", \"Entertainment\", \"News & Politics\", \"Entertainment\", \"Music\", \"Music\", \"Entertainment\", \"Entertainment\", \"Comedy\", \"Comedy\", \"Music\", \"Sports\", \"News & Politics\", \"Music\", \"Music\", \"Sports\", \"Comedy\", \"Comedy\", \"Music\", \"Sports\", \"Sports\", \"News & Politics\", \"Music\", \"Music\", \"Entertainment\", \"Music\", \"People & Blogs\", \"Sports\", \"Entertainment\", \"Entertainment\", \"Entertainment\", \"Howto & Style\", \"People & Blogs\", \"People & Blogs\"]}, {\"histnorm\": \"probability\", \"name\": \"RU\", \"type\": \"histogram\", \"visible\": false, \"x\": [\"Entertainment\", \"Entertainment\", \"Comedy\", \"Music\", \"People & Blogs\", \"Entertainment\", \"Entertainment\", \"Pets & Animals\", \"Film & Animation\", \"Pets & Animals\", \"Comedy\", \"Entertainment\", \"People & Blogs\", \"Sports\", \"Entertainment\", \"Entertainment\", \"Autos & Vehicles\", \"People & Blogs\", \"Sports\", \"Society\", \"People & Blogs\", \"Sports\", \"People & Blogs\", \"Entertainment\", \"People & Blogs\", \"Film & Animation\", \"Howto & Style\", \"Entertainment\", \"People & Blogs\", \"People & Blogs\", \"Howto & Style\", \"Society\", \"People & Blogs\", \"People & Blogs\", \"People & Blogs\", \"Entertainment\", \"News & Politics\", \"Entertainment\", \"Autos & Vehicles\", \"Sports\", \"Entertainment\", \"People & Blogs\", \"Comedy\", \"Music\", \"Sports\", \"Comedy\", \"Science & Technology\", \"Sports\", \"People & Blogs\", \"Comedy\", \"People & Blogs\", \"Entertainment\", \"Music\", \"Comedy\", \"Entertainment\", \"Science & Technology\", \"News & Politics\", \"News & Politics\", \"Science & Technology\", \"Entertainment\", \"Society\", \"News & Politics\", \"Music\", \"People & Blogs\", \"Film & Animation\", \"People & Blogs\", \"Entertainment\", \"Entertainment\", \"Comedy\", \"Autos & Vehicles\", \"News & Politics\", \"Film & Animation\", \"Entertainment\", \"Entertainment\", \"Entertainment\", \"Music\", \"People & Blogs\", \"People & Blogs\", \"Entertainment\", \"Film & Animation\", \"Howto & Style\", \"News & Politics\", \"People & Blogs\", \"Howto & Style\", \"People & Blogs\", \"News & Politics\", \"Entertainment\", \"Autos & Vehicles\", \"People & Blogs\", \"Entertainment\", \"Film & Animation\", \"News & Politics\", \"News & Politics\", \"Entertainment\", \"Science & Technology\", \"Sports\", \"Sports\", \"People & Blogs\", \"News & Politics\", \"Society\", \"Entertainment\", \"Entertainment\", \"Sports\", \"Sports\", \"Film & Animation\", \"Howto & Style\", \"People & Blogs\", \"Comedy\", \"People & Blogs\", \"Autos & Vehicles\", \"Sports\", \"Entertainment\", \"News & Politics\", \"Autos & Vehicles\", \"Sports\", \"News & Politics\", \"Film & Animation\", \"Entertainment\", \"News & Politics\", \"Film & Animation\", \"Entertainment\", \"Gaming\", \"Travel & Events\", \"Autos & Vehicles\", \"People & Blogs\", \"Film & Animation\", \"Entertainment\", \"Comedy\", \"Gaming\", \"Entertainment\", \"News & Politics\", \"Music\", \"People & Blogs\", \"People & Blogs\", \"People & Blogs\", \"Science & Technology\", \"Autos & Vehicles\", \"Film & Animation\", \"Science & Technology\", \"People & Blogs\", \"Howto & Style\", \"News & Politics\", \"Gaming\", \"Comedy\", \"News & Politics\", \"News & Politics\", \"Science & Technology\", \"People & Blogs\", \"Entertainment\", \"Science & Technology\", \"People & Blogs\", \"Comedy\", \"Sports\", \"People & Blogs\", \"People & Blogs\", \"Science & Technology\", \"People & Blogs\", \"Gaming\", \"Gaming\", \"Music\", \"Music\", \"Autos & Vehicles\", \"Pets & Animals\", \"People & Blogs\", \"Autos & Vehicles\", \"Entertainment\", \"People & Blogs\", \"News & Politics\", \"Entertainment\", \"Entertainment\", \"Gaming\", \"Science & Technology\", \"Film & Animation\", \"People & Blogs\", \"Entertainment\", \"Gaming\", \"News & Politics\", \"Entertainment\", \"Film & Animation\", \"Film & Animation\", \"Film & Animation\", \"Society\", \"Film & Animation\", \"Science & Technology\", \"People & Blogs\", \"Pets & Animals\", \"People & Blogs\", \"Autos & Vehicles\", \"Entertainment\", \"Howto & Style\", \"Gaming\", \"Autos & Vehicles\", \"People & Blogs\", \"Sports\", \"Entertainment\", \"Autos & Vehicles\", \"Entertainment\", \"News & Politics\", \"Autos & Vehicles\", \"Autos & Vehicles\"]}],\n",
       "                        {\"template\": {\"data\": {\"bar\": [{\"error_x\": {\"color\": \"#2a3f5f\"}, \"error_y\": {\"color\": \"#2a3f5f\"}, \"marker\": {\"line\": {\"color\": \"#E5ECF6\", \"width\": 0.5}}, \"type\": \"bar\"}], \"barpolar\": [{\"marker\": {\"line\": {\"color\": \"#E5ECF6\", \"width\": 0.5}}, \"type\": \"barpolar\"}], \"carpet\": [{\"aaxis\": {\"endlinecolor\": \"#2a3f5f\", \"gridcolor\": \"white\", \"linecolor\": \"white\", \"minorgridcolor\": \"white\", \"startlinecolor\": \"#2a3f5f\"}, \"baxis\": {\"endlinecolor\": \"#2a3f5f\", \"gridcolor\": \"white\", \"linecolor\": \"white\", \"minorgridcolor\": \"white\", \"startlinecolor\": \"#2a3f5f\"}, \"type\": \"carpet\"}], \"choropleth\": [{\"colorbar\": {\"outlinewidth\": 0, \"ticks\": \"\"}, \"type\": \"choropleth\"}], \"contour\": [{\"colorbar\": {\"outlinewidth\": 0, \"ticks\": \"\"}, \"colorscale\": [[0.0, \"#0d0887\"], [0.1111111111111111, \"#46039f\"], [0.2222222222222222, \"#7201a8\"], [0.3333333333333333, \"#9c179e\"], [0.4444444444444444, \"#bd3786\"], [0.5555555555555556, \"#d8576b\"], [0.6666666666666666, \"#ed7953\"], [0.7777777777777778, \"#fb9f3a\"], [0.8888888888888888, \"#fdca26\"], [1.0, \"#f0f921\"]], \"type\": \"contour\"}], \"contourcarpet\": [{\"colorbar\": {\"outlinewidth\": 0, \"ticks\": \"\"}, \"type\": \"contourcarpet\"}], \"heatmap\": [{\"colorbar\": {\"outlinewidth\": 0, \"ticks\": \"\"}, \"colorscale\": [[0.0, \"#0d0887\"], [0.1111111111111111, \"#46039f\"], [0.2222222222222222, \"#7201a8\"], [0.3333333333333333, \"#9c179e\"], [0.4444444444444444, \"#bd3786\"], [0.5555555555555556, \"#d8576b\"], [0.6666666666666666, \"#ed7953\"], [0.7777777777777778, \"#fb9f3a\"], [0.8888888888888888, \"#fdca26\"], [1.0, \"#f0f921\"]], \"type\": \"heatmap\"}], \"heatmapgl\": [{\"colorbar\": {\"outlinewidth\": 0, \"ticks\": \"\"}, \"colorscale\": [[0.0, \"#0d0887\"], [0.1111111111111111, \"#46039f\"], [0.2222222222222222, \"#7201a8\"], [0.3333333333333333, \"#9c179e\"], [0.4444444444444444, \"#bd3786\"], [0.5555555555555556, \"#d8576b\"], [0.6666666666666666, \"#ed7953\"], [0.7777777777777778, \"#fb9f3a\"], [0.8888888888888888, \"#fdca26\"], [1.0, \"#f0f921\"]], \"type\": \"heatmapgl\"}], \"histogram\": [{\"marker\": {\"colorbar\": {\"outlinewidth\": 0, \"ticks\": \"\"}}, \"type\": \"histogram\"}], \"histogram2d\": [{\"colorbar\": {\"outlinewidth\": 0, \"ticks\": \"\"}, \"colorscale\": [[0.0, \"#0d0887\"], [0.1111111111111111, \"#46039f\"], [0.2222222222222222, \"#7201a8\"], [0.3333333333333333, \"#9c179e\"], [0.4444444444444444, \"#bd3786\"], [0.5555555555555556, \"#d8576b\"], [0.6666666666666666, \"#ed7953\"], [0.7777777777777778, \"#fb9f3a\"], [0.8888888888888888, \"#fdca26\"], [1.0, \"#f0f921\"]], \"type\": \"histogram2d\"}], \"histogram2dcontour\": [{\"colorbar\": {\"outlinewidth\": 0, \"ticks\": \"\"}, \"colorscale\": [[0.0, \"#0d0887\"], [0.1111111111111111, \"#46039f\"], [0.2222222222222222, \"#7201a8\"], [0.3333333333333333, \"#9c179e\"], [0.4444444444444444, \"#bd3786\"], [0.5555555555555556, \"#d8576b\"], [0.6666666666666666, \"#ed7953\"], [0.7777777777777778, \"#fb9f3a\"], [0.8888888888888888, \"#fdca26\"], [1.0, \"#f0f921\"]], \"type\": \"histogram2dcontour\"}], \"mesh3d\": [{\"colorbar\": {\"outlinewidth\": 0, \"ticks\": \"\"}, \"type\": \"mesh3d\"}], \"parcoords\": [{\"line\": {\"colorbar\": {\"outlinewidth\": 0, \"ticks\": \"\"}}, \"type\": \"parcoords\"}], \"pie\": [{\"automargin\": true, \"type\": \"pie\"}], \"scatter\": [{\"marker\": {\"colorbar\": {\"outlinewidth\": 0, \"ticks\": \"\"}}, \"type\": \"scatter\"}], \"scatter3d\": [{\"line\": {\"colorbar\": {\"outlinewidth\": 0, \"ticks\": \"\"}}, \"marker\": {\"colorbar\": {\"outlinewidth\": 0, \"ticks\": \"\"}}, \"type\": \"scatter3d\"}], \"scattercarpet\": [{\"marker\": {\"colorbar\": {\"outlinewidth\": 0, \"ticks\": \"\"}}, \"type\": \"scattercarpet\"}], \"scattergeo\": [{\"marker\": {\"colorbar\": {\"outlinewidth\": 0, \"ticks\": \"\"}}, \"type\": \"scattergeo\"}], \"scattergl\": [{\"marker\": {\"colorbar\": {\"outlinewidth\": 0, \"ticks\": \"\"}}, \"type\": \"scattergl\"}], \"scattermapbox\": [{\"marker\": {\"colorbar\": {\"outlinewidth\": 0, \"ticks\": \"\"}}, \"type\": \"scattermapbox\"}], \"scatterpolar\": [{\"marker\": {\"colorbar\": {\"outlinewidth\": 0, \"ticks\": \"\"}}, \"type\": \"scatterpolar\"}], \"scatterpolargl\": [{\"marker\": {\"colorbar\": {\"outlinewidth\": 0, \"ticks\": \"\"}}, \"type\": \"scatterpolargl\"}], \"scatterternary\": [{\"marker\": {\"colorbar\": {\"outlinewidth\": 0, \"ticks\": \"\"}}, \"type\": \"scatterternary\"}], \"surface\": [{\"colorbar\": {\"outlinewidth\": 0, \"ticks\": \"\"}, \"colorscale\": [[0.0, \"#0d0887\"], [0.1111111111111111, \"#46039f\"], [0.2222222222222222, \"#7201a8\"], [0.3333333333333333, \"#9c179e\"], [0.4444444444444444, \"#bd3786\"], [0.5555555555555556, \"#d8576b\"], [0.6666666666666666, \"#ed7953\"], [0.7777777777777778, \"#fb9f3a\"], [0.8888888888888888, \"#fdca26\"], [1.0, \"#f0f921\"]], \"type\": \"surface\"}], \"table\": [{\"cells\": {\"fill\": {\"color\": \"#EBF0F8\"}, \"line\": {\"color\": \"white\"}}, \"header\": {\"fill\": {\"color\": \"#C8D4E3\"}, \"line\": {\"color\": \"white\"}}, \"type\": \"table\"}]}, \"layout\": {\"annotationdefaults\": {\"arrowcolor\": \"#2a3f5f\", \"arrowhead\": 0, \"arrowwidth\": 1}, \"coloraxis\": {\"colorbar\": {\"outlinewidth\": 0, \"ticks\": \"\"}}, \"colorscale\": {\"diverging\": [[0, \"#8e0152\"], [0.1, \"#c51b7d\"], [0.2, \"#de77ae\"], [0.3, \"#f1b6da\"], [0.4, \"#fde0ef\"], [0.5, \"#f7f7f7\"], [0.6, \"#e6f5d0\"], [0.7, \"#b8e186\"], [0.8, \"#7fbc41\"], [0.9, \"#4d9221\"], [1, \"#276419\"]], \"sequential\": [[0.0, \"#0d0887\"], [0.1111111111111111, \"#46039f\"], [0.2222222222222222, \"#7201a8\"], [0.3333333333333333, \"#9c179e\"], [0.4444444444444444, \"#bd3786\"], [0.5555555555555556, \"#d8576b\"], [0.6666666666666666, \"#ed7953\"], [0.7777777777777778, \"#fb9f3a\"], [0.8888888888888888, \"#fdca26\"], [1.0, \"#f0f921\"]], \"sequentialminus\": [[0.0, \"#0d0887\"], [0.1111111111111111, \"#46039f\"], [0.2222222222222222, \"#7201a8\"], [0.3333333333333333, \"#9c179e\"], [0.4444444444444444, \"#bd3786\"], [0.5555555555555556, \"#d8576b\"], [0.6666666666666666, \"#ed7953\"], [0.7777777777777778, \"#fb9f3a\"], [0.8888888888888888, \"#fdca26\"], [1.0, \"#f0f921\"]]}, \"colorway\": [\"#636efa\", \"#EF553B\", \"#00cc96\", \"#ab63fa\", \"#FFA15A\", \"#19d3f3\", \"#FF6692\", \"#B6E880\", \"#FF97FF\", \"#FECB52\"], \"font\": {\"color\": \"#2a3f5f\"}, \"geo\": {\"bgcolor\": \"white\", \"lakecolor\": \"white\", \"landcolor\": \"#E5ECF6\", \"showlakes\": true, \"showland\": true, \"subunitcolor\": \"white\"}, \"hoverlabel\": {\"align\": \"left\"}, \"hovermode\": \"closest\", \"mapbox\": {\"style\": \"light\"}, \"paper_bgcolor\": \"white\", \"plot_bgcolor\": \"#E5ECF6\", \"polar\": {\"angularaxis\": {\"gridcolor\": \"white\", \"linecolor\": \"white\", \"ticks\": \"\"}, \"bgcolor\": \"#E5ECF6\", \"radialaxis\": {\"gridcolor\": \"white\", \"linecolor\": \"white\", \"ticks\": \"\"}}, \"scene\": {\"xaxis\": {\"backgroundcolor\": \"#E5ECF6\", \"gridcolor\": \"white\", \"gridwidth\": 2, \"linecolor\": \"white\", \"showbackground\": true, \"ticks\": \"\", \"zerolinecolor\": \"white\"}, \"yaxis\": {\"backgroundcolor\": \"#E5ECF6\", \"gridcolor\": \"white\", \"gridwidth\": 2, \"linecolor\": \"white\", \"showbackground\": true, \"ticks\": \"\", \"zerolinecolor\": \"white\"}, \"zaxis\": {\"backgroundcolor\": \"#E5ECF6\", \"gridcolor\": \"white\", \"gridwidth\": 2, \"linecolor\": \"white\", \"showbackground\": true, \"ticks\": \"\", \"zerolinecolor\": \"white\"}}, \"shapedefaults\": {\"line\": {\"color\": \"#2a3f5f\"}}, \"ternary\": {\"aaxis\": {\"gridcolor\": \"white\", \"linecolor\": \"white\", \"ticks\": \"\"}, \"baxis\": {\"gridcolor\": \"white\", \"linecolor\": \"white\", \"ticks\": \"\"}, \"bgcolor\": \"#E5ECF6\", \"caxis\": {\"gridcolor\": \"white\", \"linecolor\": \"white\", \"ticks\": \"\"}}, \"title\": {\"x\": 0.05}, \"xaxis\": {\"automargin\": true, \"gridcolor\": \"white\", \"linecolor\": \"white\", \"ticks\": \"\", \"title\": {\"standoff\": 15}, \"zerolinecolor\": \"white\", \"zerolinewidth\": 2}, \"yaxis\": {\"automargin\": true, \"gridcolor\": \"white\", \"linecolor\": \"white\", \"ticks\": \"\", \"title\": {\"standoff\": 15}, \"zerolinecolor\": \"white\", \"zerolinewidth\": 2}}}, \"title\": {\"text\": \"\\u0421ategorization of videos by genre popularity\"}, \"updatemenus\": [{\"buttons\": [{\"args\": [\"visible\", [true, false, false, false, false]], \"label\": \"US\", \"method\": \"restyle\"}, {\"args\": [\"visible\", [false, true, false, false, false]], \"label\": \"GB\", \"method\": \"restyle\"}, {\"args\": [\"visible\", [false, false, true, false, false]], \"label\": \"DE\", \"method\": \"restyle\"}, {\"args\": [\"visible\", [false, false, false, true, false]], \"label\": \"FR\", \"method\": \"restyle\"}, {\"args\": [\"visible\", [false, false, false, false, true]], \"label\": \"RU\", \"method\": \"restyle\"}], \"x\": -0.05, \"y\": 1, \"yanchor\": \"top\"}], \"xaxis\": {\"title\": {\"text\": \"category\"}}, \"yaxis\": {\"title\": {\"text\": \"share\"}}},\n",
       "                        {\"responsive\": true}\n",
       "                    ).then(function(){\n",
       "                            \n",
       "var gd = document.getElementById('5b61dfd6-dcca-4db0-9e53-30d9e82d3879');\n",
       "var x = new MutationObserver(function (mutations, observer) {{\n",
       "        var display = window.getComputedStyle(gd).display;\n",
       "        if (!display || display === 'none') {{\n",
       "            console.log([gd, 'removed!']);\n",
       "            Plotly.purge(gd);\n",
       "            observer.disconnect();\n",
       "        }}\n",
       "}});\n",
       "\n",
       "// Listen for the removal of the full notebook cells\n",
       "var notebookContainer = gd.closest('#notebook-container');\n",
       "if (notebookContainer) {{\n",
       "    x.observe(notebookContainer, {childList: true});\n",
       "}}\n",
       "\n",
       "// Listen for the clearing of the current output cell\n",
       "var outputEl = gd.closest('.output');\n",
       "if (outputEl) {{\n",
       "    x.observe(outputEl, {childList: true});\n",
       "}}\n",
       "\n",
       "                        })\n",
       "                };\n",
       "                });\n",
       "            </script>\n",
       "        </div>"
      ]
     },
     "metadata": {},
     "output_type": "display_data"
    }
   ],
   "source": [
    "traces = []\n",
    "for code in ['US', 'GB', 'DE', 'FR', 'RU']:\n",
    "    traces.append(\n",
    "        go.Histogram(\n",
    "            x=tc[tc.index == code].category,\n",
    "            histnorm='probability', \n",
    "            name = code, \n",
    "            visible = (code == 'US'))\n",
    "    )\n",
    "    \n",
    "layout = go.Layout(\n",
    "    title='Сategorization of videos by genre popularity',\n",
    "    xaxis={'title':'category'},\n",
    "    yaxis={'title':'share'},\n",
    "    updatemenus=list([\n",
    "        dict(\n",
    "            x=-0.05,\n",
    "            y=1,\n",
    "            yanchor='top',\n",
    "            buttons=list([\n",
    "                dict(\n",
    "                    args=['visible', [True] + [False]*4],\n",
    "                    label='US',\n",
    "                    method='restyle'\n",
    "                ),\n",
    "                dict(\n",
    "                    args=['visible', [False] + [True] + [False]*3],\n",
    "                    label='GB',\n",
    "                    method='restyle'\n",
    "                ),\n",
    "                dict(\n",
    "                    args=['visible', [False]*2 + [True] + [False]*2],\n",
    "                    label='DE',\n",
    "                    method='restyle'\n",
    "                ),\n",
    "                dict(\n",
    "                    args=['visible', [False]*3 + [True] + [False]],\n",
    "                    label='FR',\n",
    "                    method='restyle'\n",
    "                ),\n",
    "                dict(\n",
    "                    args=['visible', [False]*4 + [True]],\n",
    "                    label='RU',\n",
    "                    method='restyle'\n",
    "                )\n",
    "            ]),\n",
    "        )\n",
    "    ]),\n",
    ")\n",
    "\n",
    "\n",
    "fig = {'data': traces, 'layout': layout}\n",
    "iplot(fig, show_link=False)"
   ]
  },
  {
   "cell_type": "markdown",
   "metadata": {},
   "source": [
    "График показывает популярность жарнов в разрезе каждой страны.  \n",
    "По столбцу Y отображаются доля по количеству каждого жанра из всех трендовых видео."
   ]
  },
  {
   "cell_type": "markdown",
   "metadata": {},
   "source": [
    "### 4 График.\n",
    "Отношение к новостям и политике. Посмотрим как пользователи относятся к категории News & Politics"
   ]
  },
  {
   "cell_type": "code",
   "execution_count": 20,
   "metadata": {},
   "outputs": [
    {
     "data": {
      "text/html": [
       "<div>\n",
       "<style scoped>\n",
       "    .dataframe tbody tr th:only-of-type {\n",
       "        vertical-align: middle;\n",
       "    }\n",
       "\n",
       "    .dataframe tbody tr th {\n",
       "        vertical-align: top;\n",
       "    }\n",
       "\n",
       "    .dataframe thead th {\n",
       "        text-align: right;\n",
       "    }\n",
       "</style>\n",
       "<table border=\"1\" class=\"dataframe\">\n",
       "  <thead>\n",
       "    <tr style=\"text-align: right;\">\n",
       "      <th></th>\n",
       "      <th>video_id</th>\n",
       "      <th>title</th>\n",
       "      <th>channelTitle</th>\n",
       "      <th>publishedAt</th>\n",
       "      <th>trending_date</th>\n",
       "      <th>tags</th>\n",
       "      <th>view_count</th>\n",
       "      <th>likes</th>\n",
       "      <th>dislikes</th>\n",
       "      <th>comment_count</th>\n",
       "      <th>categoryId</th>\n",
       "      <th>category</th>\n",
       "    </tr>\n",
       "  </thead>\n",
       "  <tbody>\n",
       "    <tr>\n",
       "      <td>US</td>\n",
       "      <td>LOVxwVvUe_c</td>\n",
       "      <td>Nicki Minaj - Yikes (Official Audio)</td>\n",
       "      <td>Nicki Minaj</td>\n",
       "      <td>2020-02-07 08:03:03</td>\n",
       "      <td>2020-02-08</td>\n",
       "      <td>nicki|minaj|nicki minaj 2019|nicki minaj|pink ...</td>\n",
       "      <td>2241192</td>\n",
       "      <td>188575</td>\n",
       "      <td>10612</td>\n",
       "      <td>21954</td>\n",
       "      <td>10</td>\n",
       "      <td>Music</td>\n",
       "    </tr>\n",
       "    <tr>\n",
       "      <td>US</td>\n",
       "      <td>hAjuvcQNzfw</td>\n",
       "      <td>Mudding the $100,000 F350 Until it’s Ruined</td>\n",
       "      <td>WhistlinDiesel</td>\n",
       "      <td>2020-02-07 22:32:31</td>\n",
       "      <td>2020-02-08</td>\n",
       "      <td>whistlindiesel|ford|f350|f250|f150|raptor|dies...</td>\n",
       "      <td>590282</td>\n",
       "      <td>25228</td>\n",
       "      <td>2872</td>\n",
       "      <td>8153</td>\n",
       "      <td>22</td>\n",
       "      <td>People &amp; Blogs</td>\n",
       "    </tr>\n",
       "    <tr>\n",
       "      <td>US</td>\n",
       "      <td>FXeDN7sQk30</td>\n",
       "      <td>Anuel AA - Keii [Official Video]</td>\n",
       "      <td>Anuel AA</td>\n",
       "      <td>2020-02-07 05:00:31</td>\n",
       "      <td>2020-02-08</td>\n",
       "      <td>anuel aa|keii|real hasta la muerte|Anuel|Anuel...</td>\n",
       "      <td>9132471</td>\n",
       "      <td>467699</td>\n",
       "      <td>19609</td>\n",
       "      <td>18509</td>\n",
       "      <td>10</td>\n",
       "      <td>Music</td>\n",
       "    </tr>\n",
       "    <tr>\n",
       "      <td>US</td>\n",
       "      <td>c-yRN55iaQY</td>\n",
       "      <td>Lil Nas X - Rodeo (ft. Nas) [Official Video]</td>\n",
       "      <td>LilNasXVEVO</td>\n",
       "      <td>2020-02-06 15:00:10</td>\n",
       "      <td>2020-02-08</td>\n",
       "      <td>LilNasX|Nas|Nas X|Rodeo Remix|Nas and Nas X|Hi...</td>\n",
       "      <td>7645550</td>\n",
       "      <td>544271</td>\n",
       "      <td>23576</td>\n",
       "      <td>45654</td>\n",
       "      <td>10</td>\n",
       "      <td>Music</td>\n",
       "    </tr>\n",
       "    <tr>\n",
       "      <td>US</td>\n",
       "      <td>4rNo-UuGDfA</td>\n",
       "      <td>Meek Mill - Believe (feat. Justin Timberlake) ...</td>\n",
       "      <td>Meek Mill</td>\n",
       "      <td>2020-02-07 05:06:48</td>\n",
       "      <td>2020-02-08</td>\n",
       "      <td>meek mill|meek|mill|hip hop|rap|atlantic|wins ...</td>\n",
       "      <td>1796732</td>\n",
       "      <td>111084</td>\n",
       "      <td>2737</td>\n",
       "      <td>8550</td>\n",
       "      <td>10</td>\n",
       "      <td>Music</td>\n",
       "    </tr>\n",
       "  </tbody>\n",
       "</table>\n",
       "</div>"
      ],
      "text/plain": [
       "       video_id                                              title  \\\n",
       "US  LOVxwVvUe_c               Nicki Minaj - Yikes (Official Audio)   \n",
       "US  hAjuvcQNzfw        Mudding the $100,000 F350 Until it’s Ruined   \n",
       "US  FXeDN7sQk30                   Anuel AA - Keii [Official Video]   \n",
       "US  c-yRN55iaQY       Lil Nas X - Rodeo (ft. Nas) [Official Video]   \n",
       "US  4rNo-UuGDfA  Meek Mill - Believe (feat. Justin Timberlake) ...   \n",
       "\n",
       "      channelTitle         publishedAt trending_date  \\\n",
       "US     Nicki Minaj 2020-02-07 08:03:03    2020-02-08   \n",
       "US  WhistlinDiesel 2020-02-07 22:32:31    2020-02-08   \n",
       "US        Anuel AA 2020-02-07 05:00:31    2020-02-08   \n",
       "US     LilNasXVEVO 2020-02-06 15:00:10    2020-02-08   \n",
       "US       Meek Mill 2020-02-07 05:06:48    2020-02-08   \n",
       "\n",
       "                                                 tags  view_count   likes  \\\n",
       "US  nicki|minaj|nicki minaj 2019|nicki minaj|pink ...     2241192  188575   \n",
       "US  whistlindiesel|ford|f350|f250|f150|raptor|dies...      590282   25228   \n",
       "US  anuel aa|keii|real hasta la muerte|Anuel|Anuel...     9132471  467699   \n",
       "US  LilNasX|Nas|Nas X|Rodeo Remix|Nas and Nas X|Hi...     7645550  544271   \n",
       "US  meek mill|meek|mill|hip hop|rap|atlantic|wins ...     1796732  111084   \n",
       "\n",
       "    dislikes  comment_count  categoryId        category  \n",
       "US     10612          21954          10           Music  \n",
       "US      2872           8153          22  People & Blogs  \n",
       "US     19609          18509          10           Music  \n",
       "US     23576          45654          10           Music  \n",
       "US      2737           8550          10           Music  "
      ]
     },
     "execution_count": 20,
     "metadata": {},
     "output_type": "execute_result"
    }
   ],
   "source": [
    "tc.head()"
   ]
  },
  {
   "cell_type": "code",
   "execution_count": 21,
   "metadata": {},
   "outputs": [],
   "source": [
    "# Рассчитаем долю просмотров категории News & Politics по отношению к просмотрам всех трендовых видео"
   ]
  },
  {
   "cell_type": "code",
   "execution_count": 22,
   "metadata": {},
   "outputs": [
    {
     "data": {
      "text/html": [
       "<div>\n",
       "<style scoped>\n",
       "    .dataframe tbody tr th:only-of-type {\n",
       "        vertical-align: middle;\n",
       "    }\n",
       "\n",
       "    .dataframe tbody tr th {\n",
       "        vertical-align: top;\n",
       "    }\n",
       "\n",
       "    .dataframe thead th {\n",
       "        text-align: right;\n",
       "    }\n",
       "</style>\n",
       "<table border=\"1\" class=\"dataframe\">\n",
       "  <thead>\n",
       "    <tr style=\"text-align: right;\">\n",
       "      <th></th>\n",
       "      <th></th>\n",
       "      <th>view_count</th>\n",
       "    </tr>\n",
       "    <tr>\n",
       "      <th></th>\n",
       "      <th>category</th>\n",
       "      <th></th>\n",
       "    </tr>\n",
       "  </thead>\n",
       "  <tbody>\n",
       "    <tr>\n",
       "      <td rowspan=\"5\" valign=\"top\">DE</td>\n",
       "      <td>Autos &amp; Vehicles</td>\n",
       "      <td>51708663</td>\n",
       "    </tr>\n",
       "    <tr>\n",
       "      <td>Comedy</td>\n",
       "      <td>1834583</td>\n",
       "    </tr>\n",
       "    <tr>\n",
       "      <td>Education</td>\n",
       "      <td>497833</td>\n",
       "    </tr>\n",
       "    <tr>\n",
       "      <td>Entertainment</td>\n",
       "      <td>66841419</td>\n",
       "    </tr>\n",
       "    <tr>\n",
       "      <td>Film &amp; Animation</td>\n",
       "      <td>4477050</td>\n",
       "    </tr>\n",
       "  </tbody>\n",
       "</table>\n",
       "</div>"
      ],
      "text/plain": [
       "                     view_count\n",
       "   category                    \n",
       "DE Autos & Vehicles    51708663\n",
       "   Comedy               1834583\n",
       "   Education             497833\n",
       "   Entertainment       66841419\n",
       "   Film & Animation     4477050"
      ]
     },
     "execution_count": 22,
     "metadata": {},
     "output_type": "execute_result"
    }
   ],
   "source": [
    "tc_agg_df = tc[['view_count','category']].groupby([tc.index, 'category']).sum()\n",
    "tc_agg_df.head()"
   ]
  },
  {
   "cell_type": "code",
   "execution_count": 23,
   "metadata": {},
   "outputs": [
    {
     "data": {
      "text/html": [
       "<div>\n",
       "<style scoped>\n",
       "    .dataframe tbody tr th:only-of-type {\n",
       "        vertical-align: middle;\n",
       "    }\n",
       "\n",
       "    .dataframe tbody tr th {\n",
       "        vertical-align: top;\n",
       "    }\n",
       "\n",
       "    .dataframe thead th {\n",
       "        text-align: right;\n",
       "    }\n",
       "</style>\n",
       "<table border=\"1\" class=\"dataframe\">\n",
       "  <thead>\n",
       "    <tr style=\"text-align: right;\">\n",
       "      <th></th>\n",
       "      <th></th>\n",
       "      <th>DE</th>\n",
       "      <th>FR</th>\n",
       "      <th>GB</th>\n",
       "      <th>RU</th>\n",
       "      <th>US</th>\n",
       "    </tr>\n",
       "    <tr>\n",
       "      <th></th>\n",
       "      <th>category</th>\n",
       "      <th></th>\n",
       "      <th></th>\n",
       "      <th></th>\n",
       "      <th></th>\n",
       "      <th></th>\n",
       "    </tr>\n",
       "  </thead>\n",
       "  <tbody>\n",
       "    <tr>\n",
       "      <td rowspan=\"16\" valign=\"top\">view_count</td>\n",
       "      <td>Autos &amp; Vehicles</td>\n",
       "      <td>51708663.0</td>\n",
       "      <td>52090500.0</td>\n",
       "      <td>45895732.0</td>\n",
       "      <td>4995684.0</td>\n",
       "      <td>15682457.0</td>\n",
       "    </tr>\n",
       "    <tr>\n",
       "      <td>Comedy</td>\n",
       "      <td>1834583.0</td>\n",
       "      <td>14602321.0</td>\n",
       "      <td>27441918.0</td>\n",
       "      <td>3280946.0</td>\n",
       "      <td>42559915.0</td>\n",
       "    </tr>\n",
       "    <tr>\n",
       "      <td>Education</td>\n",
       "      <td>497833.0</td>\n",
       "      <td>1098752.0</td>\n",
       "      <td>4283350.0</td>\n",
       "      <td>NaN</td>\n",
       "      <td>29048070.0</td>\n",
       "    </tr>\n",
       "    <tr>\n",
       "      <td>Entertainment</td>\n",
       "      <td>66841419.0</td>\n",
       "      <td>35129793.0</td>\n",
       "      <td>179838372.0</td>\n",
       "      <td>17441154.0</td>\n",
       "      <td>148833877.0</td>\n",
       "    </tr>\n",
       "    <tr>\n",
       "      <td>Film &amp; Animation</td>\n",
       "      <td>4477050.0</td>\n",
       "      <td>2569536.0</td>\n",
       "      <td>7630735.0</td>\n",
       "      <td>5852056.0</td>\n",
       "      <td>33339424.0</td>\n",
       "    </tr>\n",
       "    <tr>\n",
       "      <td>Gaming</td>\n",
       "      <td>13972587.0</td>\n",
       "      <td>6273730.0</td>\n",
       "      <td>18003479.0</td>\n",
       "      <td>729219.0</td>\n",
       "      <td>11180628.0</td>\n",
       "    </tr>\n",
       "    <tr>\n",
       "      <td>Hobbies and style</td>\n",
       "      <td>268556.0</td>\n",
       "      <td>NaN</td>\n",
       "      <td>NaN</td>\n",
       "      <td>NaN</td>\n",
       "      <td>NaN</td>\n",
       "    </tr>\n",
       "    <tr>\n",
       "      <td>Howto &amp; Style</td>\n",
       "      <td>2737252.0</td>\n",
       "      <td>4233208.0</td>\n",
       "      <td>10589701.0</td>\n",
       "      <td>1048190.0</td>\n",
       "      <td>12391556.0</td>\n",
       "    </tr>\n",
       "    <tr>\n",
       "      <td>Music</td>\n",
       "      <td>193549489.0</td>\n",
       "      <td>210779618.0</td>\n",
       "      <td>189150318.0</td>\n",
       "      <td>10257620.0</td>\n",
       "      <td>182572581.0</td>\n",
       "    </tr>\n",
       "    <tr>\n",
       "      <td>News &amp; Politics</td>\n",
       "      <td>5331006.0</td>\n",
       "      <td>2450518.0</td>\n",
       "      <td>7316628.0</td>\n",
       "      <td>2840254.0</td>\n",
       "      <td>13181065.0</td>\n",
       "    </tr>\n",
       "    <tr>\n",
       "      <td>People &amp; Blogs</td>\n",
       "      <td>5784776.0</td>\n",
       "      <td>3531936.0</td>\n",
       "      <td>20080551.0</td>\n",
       "      <td>8841181.0</td>\n",
       "      <td>31346589.0</td>\n",
       "    </tr>\n",
       "    <tr>\n",
       "      <td>Pets &amp; Animals</td>\n",
       "      <td>NaN</td>\n",
       "      <td>104901.0</td>\n",
       "      <td>NaN</td>\n",
       "      <td>1048583.0</td>\n",
       "      <td>NaN</td>\n",
       "    </tr>\n",
       "    <tr>\n",
       "      <td>Science &amp; Technology</td>\n",
       "      <td>1903412.0</td>\n",
       "      <td>2072142.0</td>\n",
       "      <td>38423110.0</td>\n",
       "      <td>2085006.0</td>\n",
       "      <td>3504388.0</td>\n",
       "    </tr>\n",
       "    <tr>\n",
       "      <td>Society</td>\n",
       "      <td>NaN</td>\n",
       "      <td>NaN</td>\n",
       "      <td>NaN</td>\n",
       "      <td>742929.0</td>\n",
       "      <td>NaN</td>\n",
       "    </tr>\n",
       "    <tr>\n",
       "      <td>Sports</td>\n",
       "      <td>142804813.0</td>\n",
       "      <td>147651318.0</td>\n",
       "      <td>150410925.0</td>\n",
       "      <td>3444189.0</td>\n",
       "      <td>152397804.0</td>\n",
       "    </tr>\n",
       "    <tr>\n",
       "      <td>Travel &amp; Events</td>\n",
       "      <td>NaN</td>\n",
       "      <td>154751.0</td>\n",
       "      <td>1003557.0</td>\n",
       "      <td>416253.0</td>\n",
       "      <td>NaN</td>\n",
       "    </tr>\n",
       "  </tbody>\n",
       "</table>\n",
       "</div>"
      ],
      "text/plain": [
       "                                          DE           FR           GB  \\\n",
       "           category                                                      \n",
       "view_count Autos & Vehicles       51708663.0   52090500.0   45895732.0   \n",
       "           Comedy                  1834583.0   14602321.0   27441918.0   \n",
       "           Education                497833.0    1098752.0    4283350.0   \n",
       "           Entertainment          66841419.0   35129793.0  179838372.0   \n",
       "           Film & Animation        4477050.0    2569536.0    7630735.0   \n",
       "           Gaming                 13972587.0    6273730.0   18003479.0   \n",
       "           Hobbies and style        268556.0          NaN          NaN   \n",
       "           Howto & Style           2737252.0    4233208.0   10589701.0   \n",
       "           Music                 193549489.0  210779618.0  189150318.0   \n",
       "           News & Politics         5331006.0    2450518.0    7316628.0   \n",
       "           People & Blogs          5784776.0    3531936.0   20080551.0   \n",
       "           Pets & Animals                NaN     104901.0          NaN   \n",
       "           Science & Technology    1903412.0    2072142.0   38423110.0   \n",
       "           Society                       NaN          NaN          NaN   \n",
       "           Sports                142804813.0  147651318.0  150410925.0   \n",
       "           Travel & Events               NaN     154751.0    1003557.0   \n",
       "\n",
       "                                         RU           US  \n",
       "           category                                       \n",
       "view_count Autos & Vehicles       4995684.0   15682457.0  \n",
       "           Comedy                 3280946.0   42559915.0  \n",
       "           Education                    NaN   29048070.0  \n",
       "           Entertainment         17441154.0  148833877.0  \n",
       "           Film & Animation       5852056.0   33339424.0  \n",
       "           Gaming                  729219.0   11180628.0  \n",
       "           Hobbies and style            NaN          NaN  \n",
       "           Howto & Style          1048190.0   12391556.0  \n",
       "           Music                 10257620.0  182572581.0  \n",
       "           News & Politics        2840254.0   13181065.0  \n",
       "           People & Blogs         8841181.0   31346589.0  \n",
       "           Pets & Animals         1048583.0          NaN  \n",
       "           Science & Technology   2085006.0    3504388.0  \n",
       "           Society                 742929.0          NaN  \n",
       "           Sports                 3444189.0  152397804.0  \n",
       "           Travel & Events         416253.0          NaN  "
      ]
     },
     "execution_count": 23,
     "metadata": {},
     "output_type": "execute_result"
    }
   ],
   "source": [
    "tc_agg_df = tc_agg_df.unstack('category').T\n",
    "tc_agg_df"
   ]
  },
  {
   "cell_type": "code",
   "execution_count": 26,
   "metadata": {},
   "outputs": [
    {
     "data": {
      "text/html": [
       "<div>\n",
       "<style scoped>\n",
       "    .dataframe tbody tr th:only-of-type {\n",
       "        vertical-align: middle;\n",
       "    }\n",
       "\n",
       "    .dataframe tbody tr th {\n",
       "        vertical-align: top;\n",
       "    }\n",
       "\n",
       "    .dataframe thead th {\n",
       "        text-align: right;\n",
       "    }\n",
       "</style>\n",
       "<table border=\"1\" class=\"dataframe\">\n",
       "  <thead>\n",
       "    <tr style=\"text-align: right;\">\n",
       "      <th></th>\n",
       "      <th></th>\n",
       "      <th>DE</th>\n",
       "      <th>FR</th>\n",
       "      <th>GB</th>\n",
       "      <th>RU</th>\n",
       "      <th>US</th>\n",
       "    </tr>\n",
       "    <tr>\n",
       "      <th></th>\n",
       "      <th>category</th>\n",
       "      <th></th>\n",
       "      <th></th>\n",
       "      <th></th>\n",
       "      <th></th>\n",
       "      <th></th>\n",
       "    </tr>\n",
       "  </thead>\n",
       "  <tbody>\n",
       "    <tr>\n",
       "      <td rowspan=\"16\" valign=\"top\">view_count</td>\n",
       "      <td>Autos &amp; Vehicles</td>\n",
       "      <td>10.516059</td>\n",
       "      <td>10.790524</td>\n",
       "      <td>6.555893</td>\n",
       "      <td>7.926730</td>\n",
       "      <td>2.319758</td>\n",
       "    </tr>\n",
       "    <tr>\n",
       "      <td>Comedy</td>\n",
       "      <td>0.373102</td>\n",
       "      <td>3.024864</td>\n",
       "      <td>3.919891</td>\n",
       "      <td>5.205928</td>\n",
       "      <td>6.295488</td>\n",
       "    </tr>\n",
       "    <tr>\n",
       "      <td>Education</td>\n",
       "      <td>0.101245</td>\n",
       "      <td>0.227606</td>\n",
       "      <td>0.611847</td>\n",
       "      <td>NaN</td>\n",
       "      <td>4.296808</td>\n",
       "    </tr>\n",
       "    <tr>\n",
       "      <td>Entertainment</td>\n",
       "      <td>13.593627</td>\n",
       "      <td>7.277121</td>\n",
       "      <td>25.688687</td>\n",
       "      <td>27.674152</td>\n",
       "      <td>22.015597</td>\n",
       "    </tr>\n",
       "    <tr>\n",
       "      <td>Film &amp; Animation</td>\n",
       "      <td>0.910504</td>\n",
       "      <td>0.532278</td>\n",
       "      <td>1.089999</td>\n",
       "      <td>9.285549</td>\n",
       "      <td>4.931588</td>\n",
       "    </tr>\n",
       "    <tr>\n",
       "      <td>Gaming</td>\n",
       "      <td>2.841623</td>\n",
       "      <td>1.299600</td>\n",
       "      <td>2.571674</td>\n",
       "      <td>1.157063</td>\n",
       "      <td>1.653845</td>\n",
       "    </tr>\n",
       "    <tr>\n",
       "      <td>Hobbies and style</td>\n",
       "      <td>0.054617</td>\n",
       "      <td>NaN</td>\n",
       "      <td>NaN</td>\n",
       "      <td>NaN</td>\n",
       "      <td>NaN</td>\n",
       "    </tr>\n",
       "    <tr>\n",
       "      <td>Howto &amp; Style</td>\n",
       "      <td>0.556679</td>\n",
       "      <td>0.876907</td>\n",
       "      <td>1.512667</td>\n",
       "      <td>1.663179</td>\n",
       "      <td>1.832966</td>\n",
       "    </tr>\n",
       "    <tr>\n",
       "      <td>Music</td>\n",
       "      <td>39.362413</td>\n",
       "      <td>43.662903</td>\n",
       "      <td>27.018835</td>\n",
       "      <td>16.275926</td>\n",
       "      <td>27.006246</td>\n",
       "    </tr>\n",
       "    <tr>\n",
       "      <td>News &amp; Politics</td>\n",
       "      <td>1.084174</td>\n",
       "      <td>0.507624</td>\n",
       "      <td>1.045130</td>\n",
       "      <td>4.506676</td>\n",
       "      <td>1.949751</td>\n",
       "    </tr>\n",
       "    <tr>\n",
       "      <td>People &amp; Blogs</td>\n",
       "      <td>1.176457</td>\n",
       "      <td>0.731639</td>\n",
       "      <td>2.868370</td>\n",
       "      <td>14.028440</td>\n",
       "      <td>4.636806</td>\n",
       "    </tr>\n",
       "    <tr>\n",
       "      <td>Pets &amp; Animals</td>\n",
       "      <td>NaN</td>\n",
       "      <td>0.021730</td>\n",
       "      <td>NaN</td>\n",
       "      <td>1.663803</td>\n",
       "      <td>NaN</td>\n",
       "    </tr>\n",
       "    <tr>\n",
       "      <td>Science &amp; Technology</td>\n",
       "      <td>0.387099</td>\n",
       "      <td>0.429243</td>\n",
       "      <td>5.488480</td>\n",
       "      <td>3.308312</td>\n",
       "      <td>0.518371</td>\n",
       "    </tr>\n",
       "    <tr>\n",
       "      <td>Society</td>\n",
       "      <td>NaN</td>\n",
       "      <td>NaN</td>\n",
       "      <td>NaN</td>\n",
       "      <td>1.178817</td>\n",
       "      <td>NaN</td>\n",
       "    </tr>\n",
       "    <tr>\n",
       "      <td>Sports</td>\n",
       "      <td>29.042402</td>\n",
       "      <td>30.585904</td>\n",
       "      <td>21.485176</td>\n",
       "      <td>5.464949</td>\n",
       "      <td>22.542775</td>\n",
       "    </tr>\n",
       "    <tr>\n",
       "      <td>Travel &amp; Events</td>\n",
       "      <td>NaN</td>\n",
       "      <td>0.032057</td>\n",
       "      <td>0.143351</td>\n",
       "      <td>0.660475</td>\n",
       "      <td>NaN</td>\n",
       "    </tr>\n",
       "  </tbody>\n",
       "</table>\n",
       "</div>"
      ],
      "text/plain": [
       "                                        DE         FR         GB         RU  \\\n",
       "           category                                                           \n",
       "view_count Autos & Vehicles      10.516059  10.790524   6.555893   7.926730   \n",
       "           Comedy                 0.373102   3.024864   3.919891   5.205928   \n",
       "           Education              0.101245   0.227606   0.611847        NaN   \n",
       "           Entertainment         13.593627   7.277121  25.688687  27.674152   \n",
       "           Film & Animation       0.910504   0.532278   1.089999   9.285549   \n",
       "           Gaming                 2.841623   1.299600   2.571674   1.157063   \n",
       "           Hobbies and style      0.054617        NaN        NaN        NaN   \n",
       "           Howto & Style          0.556679   0.876907   1.512667   1.663179   \n",
       "           Music                 39.362413  43.662903  27.018835  16.275926   \n",
       "           News & Politics        1.084174   0.507624   1.045130   4.506676   \n",
       "           People & Blogs         1.176457   0.731639   2.868370  14.028440   \n",
       "           Pets & Animals              NaN   0.021730        NaN   1.663803   \n",
       "           Science & Technology   0.387099   0.429243   5.488480   3.308312   \n",
       "           Society                     NaN        NaN        NaN   1.178817   \n",
       "           Sports                29.042402  30.585904  21.485176   5.464949   \n",
       "           Travel & Events             NaN   0.032057   0.143351   0.660475   \n",
       "\n",
       "                                        US  \n",
       "           category                         \n",
       "view_count Autos & Vehicles       2.319758  \n",
       "           Comedy                 6.295488  \n",
       "           Education              4.296808  \n",
       "           Entertainment         22.015597  \n",
       "           Film & Animation       4.931588  \n",
       "           Gaming                 1.653845  \n",
       "           Hobbies and style           NaN  \n",
       "           Howto & Style          1.832966  \n",
       "           Music                 27.006246  \n",
       "           News & Politics        1.949751  \n",
       "           People & Blogs         4.636806  \n",
       "           Pets & Animals              NaN  \n",
       "           Science & Technology   0.518371  \n",
       "           Society                     NaN  \n",
       "           Sports                22.542775  \n",
       "           Travel & Events             NaN  "
      ]
     },
     "execution_count": 26,
     "metadata": {},
     "output_type": "execute_result"
    }
   ],
   "source": [
    "# Рассчёт доли\n",
    "tc_agg_df = tc_agg_df.apply(lambda x: 100*x/tc_agg_df.sum(), axis = 1)\n",
    "tc_agg_df"
   ]
  },
  {
   "cell_type": "code",
   "execution_count": 30,
   "metadata": {},
   "outputs": [
    {
     "data": {
      "text/html": [
       "<div>\n",
       "<style scoped>\n",
       "    .dataframe tbody tr th:only-of-type {\n",
       "        vertical-align: middle;\n",
       "    }\n",
       "\n",
       "    .dataframe tbody tr th {\n",
       "        vertical-align: top;\n",
       "    }\n",
       "\n",
       "    .dataframe thead th {\n",
       "        text-align: right;\n",
       "    }\n",
       "</style>\n",
       "<table border=\"1\" class=\"dataframe\">\n",
       "  <thead>\n",
       "    <tr style=\"text-align: right;\">\n",
       "      <th></th>\n",
       "      <th></th>\n",
       "      <th>DE</th>\n",
       "      <th>FR</th>\n",
       "      <th>GB</th>\n",
       "      <th>RU</th>\n",
       "      <th>US</th>\n",
       "    </tr>\n",
       "    <tr>\n",
       "      <th></th>\n",
       "      <th>category</th>\n",
       "      <th></th>\n",
       "      <th></th>\n",
       "      <th></th>\n",
       "      <th></th>\n",
       "      <th></th>\n",
       "    </tr>\n",
       "  </thead>\n",
       "  <tbody>\n",
       "    <tr>\n",
       "      <td>Share_view_of_total_views</td>\n",
       "      <td>News &amp; Politics</td>\n",
       "      <td>1.084174</td>\n",
       "      <td>0.507624</td>\n",
       "      <td>1.04513</td>\n",
       "      <td>4.506676</td>\n",
       "      <td>1.949751</td>\n",
       "    </tr>\n",
       "  </tbody>\n",
       "</table>\n",
       "</div>"
      ],
      "text/plain": [
       "                                                 DE        FR       GB  \\\n",
       "                          category                                       \n",
       "Share_view_of_total_views News & Politics  1.084174  0.507624  1.04513   \n",
       "\n",
       "                                                 RU        US  \n",
       "                          category                             \n",
       "Share_view_of_total_views News & Politics  4.506676  1.949751  "
      ]
     },
     "execution_count": 30,
     "metadata": {},
     "output_type": "execute_result"
    }
   ],
   "source": [
    "# Извлечение только категории News & Politics и изменение наименование индекса нулевого уровня\n",
    "tc_agg_News_Politics_views = tc_agg_df[tc_agg_df.index.get_level_values(1) == 'News & Politics']\n",
    "tc_agg_News_Politics_views.rename(index={'view_count':'Share_view_of_total_views'},inplace=True)\n",
    "tc_agg_News_Politics_views"
   ]
  },
  {
   "cell_type": "code",
   "execution_count": 31,
   "metadata": {},
   "outputs": [],
   "source": [
    "# Теперь рассчитаем долю одобрения видео и неодобрения видео. \n",
    "# Т.е. Количество лайков/Число просмотров и Количество дислайков/число просмотров соответственно"
   ]
  },
  {
   "cell_type": "code",
   "execution_count": 32,
   "metadata": {},
   "outputs": [
    {
     "data": {
      "text/html": [
       "<div>\n",
       "<style scoped>\n",
       "    .dataframe tbody tr th:only-of-type {\n",
       "        vertical-align: middle;\n",
       "    }\n",
       "\n",
       "    .dataframe tbody tr th {\n",
       "        vertical-align: top;\n",
       "    }\n",
       "\n",
       "    .dataframe thead th {\n",
       "        text-align: right;\n",
       "    }\n",
       "</style>\n",
       "<table border=\"1\" class=\"dataframe\">\n",
       "  <thead>\n",
       "    <tr style=\"text-align: right;\">\n",
       "      <th></th>\n",
       "      <th></th>\n",
       "      <th>view_count</th>\n",
       "      <th>likes</th>\n",
       "      <th>dislikes</th>\n",
       "    </tr>\n",
       "    <tr>\n",
       "      <th></th>\n",
       "      <th>category</th>\n",
       "      <th></th>\n",
       "      <th></th>\n",
       "      <th></th>\n",
       "    </tr>\n",
       "  </thead>\n",
       "  <tbody>\n",
       "    <tr>\n",
       "      <td rowspan=\"5\" valign=\"top\">DE</td>\n",
       "      <td>Autos &amp; Vehicles</td>\n",
       "      <td>51708663</td>\n",
       "      <td>142821</td>\n",
       "      <td>4599</td>\n",
       "    </tr>\n",
       "    <tr>\n",
       "      <td>Comedy</td>\n",
       "      <td>1834583</td>\n",
       "      <td>154098</td>\n",
       "      <td>2322</td>\n",
       "    </tr>\n",
       "    <tr>\n",
       "      <td>Education</td>\n",
       "      <td>497833</td>\n",
       "      <td>26100</td>\n",
       "      <td>1220</td>\n",
       "    </tr>\n",
       "    <tr>\n",
       "      <td>Entertainment</td>\n",
       "      <td>66841419</td>\n",
       "      <td>3374418</td>\n",
       "      <td>114554</td>\n",
       "    </tr>\n",
       "    <tr>\n",
       "      <td>Film &amp; Animation</td>\n",
       "      <td>4477050</td>\n",
       "      <td>45024</td>\n",
       "      <td>1931</td>\n",
       "    </tr>\n",
       "  </tbody>\n",
       "</table>\n",
       "</div>"
      ],
      "text/plain": [
       "                     view_count    likes  dislikes\n",
       "   category                                       \n",
       "DE Autos & Vehicles    51708663   142821      4599\n",
       "   Comedy               1834583   154098      2322\n",
       "   Education             497833    26100      1220\n",
       "   Entertainment       66841419  3374418    114554\n",
       "   Film & Animation     4477050    45024      1931"
      ]
     },
     "execution_count": 32,
     "metadata": {},
     "output_type": "execute_result"
    }
   ],
   "source": [
    "tc_agg_df = tc[['view_count','likes','dislikes','category']].groupby([tc.index, 'category']).sum()\n",
    "tc_agg_df.head()"
   ]
  },
  {
   "cell_type": "code",
   "execution_count": 33,
   "metadata": {},
   "outputs": [],
   "source": [
    "# Расчёт долей\n",
    "tc_agg_df['share_of_likes_from_views'] = tc_agg_df.apply(lambda row: row['likes']/row['view_count'], axis = 1)\n",
    "tc_agg_df['share_of_dislikes_from_views'] = tc_agg_df.apply(lambda row: row['dislikes']/row['view_count'], axis = 1)"
   ]
  },
  {
   "cell_type": "code",
   "execution_count": 34,
   "metadata": {},
   "outputs": [
    {
     "data": {
      "text/html": [
       "<div>\n",
       "<style scoped>\n",
       "    .dataframe tbody tr th:only-of-type {\n",
       "        vertical-align: middle;\n",
       "    }\n",
       "\n",
       "    .dataframe tbody tr th {\n",
       "        vertical-align: top;\n",
       "    }\n",
       "\n",
       "    .dataframe thead th {\n",
       "        text-align: right;\n",
       "    }\n",
       "</style>\n",
       "<table border=\"1\" class=\"dataframe\">\n",
       "  <thead>\n",
       "    <tr style=\"text-align: right;\">\n",
       "      <th></th>\n",
       "      <th></th>\n",
       "      <th>share_of_likes_from_views</th>\n",
       "      <th>share_of_dislikes_from_views</th>\n",
       "    </tr>\n",
       "    <tr>\n",
       "      <th></th>\n",
       "      <th>category</th>\n",
       "      <th></th>\n",
       "      <th></th>\n",
       "    </tr>\n",
       "  </thead>\n",
       "  <tbody>\n",
       "    <tr>\n",
       "      <td>DE</td>\n",
       "      <td>News &amp; Politics</td>\n",
       "      <td>1.204988</td>\n",
       "      <td>0.145620</td>\n",
       "    </tr>\n",
       "    <tr>\n",
       "      <td>FR</td>\n",
       "      <td>News &amp; Politics</td>\n",
       "      <td>1.692703</td>\n",
       "      <td>0.038686</td>\n",
       "    </tr>\n",
       "    <tr>\n",
       "      <td>GB</td>\n",
       "      <td>News &amp; Politics</td>\n",
       "      <td>1.572692</td>\n",
       "      <td>0.119372</td>\n",
       "    </tr>\n",
       "    <tr>\n",
       "      <td>RU</td>\n",
       "      <td>News &amp; Politics</td>\n",
       "      <td>3.996298</td>\n",
       "      <td>0.246457</td>\n",
       "    </tr>\n",
       "    <tr>\n",
       "      <td>US</td>\n",
       "      <td>News &amp; Politics</td>\n",
       "      <td>1.447129</td>\n",
       "      <td>0.302540</td>\n",
       "    </tr>\n",
       "  </tbody>\n",
       "</table>\n",
       "</div>"
      ],
      "text/plain": [
       "                    share_of_likes_from_views  share_of_dislikes_from_views\n",
       "   category                                                                \n",
       "DE News & Politics                   1.204988                      0.145620\n",
       "FR News & Politics                   1.692703                      0.038686\n",
       "GB News & Politics                   1.572692                      0.119372\n",
       "RU News & Politics                   3.996298                      0.246457\n",
       "US News & Politics                   1.447129                      0.302540"
      ]
     },
     "execution_count": 34,
     "metadata": {},
     "output_type": "execute_result"
    }
   ],
   "source": [
    "# Отбираем только категорию 'News & Politics' и фильтруем только нужные столбцы\n",
    "tc_agg_News_Politics_likes_dislikes = tc_agg_df.loc[tc_agg_df.index.get_level_values(1) == 'News & Politics',\n",
    "                                                    ['share_of_likes_from_views','share_of_dislikes_from_views']]*100\n",
    "tc_agg_News_Politics_likes_dislikes"
   ]
  },
  {
   "cell_type": "code",
   "execution_count": 35,
   "metadata": {},
   "outputs": [
    {
     "data": {
      "text/html": [
       "<div>\n",
       "<style scoped>\n",
       "    .dataframe tbody tr th:only-of-type {\n",
       "        vertical-align: middle;\n",
       "    }\n",
       "\n",
       "    .dataframe tbody tr th {\n",
       "        vertical-align: top;\n",
       "    }\n",
       "\n",
       "    .dataframe thead th {\n",
       "        text-align: right;\n",
       "    }\n",
       "</style>\n",
       "<table border=\"1\" class=\"dataframe\">\n",
       "  <thead>\n",
       "    <tr style=\"text-align: right;\">\n",
       "      <th></th>\n",
       "      <th></th>\n",
       "      <th>DE</th>\n",
       "      <th>FR</th>\n",
       "      <th>GB</th>\n",
       "      <th>RU</th>\n",
       "      <th>US</th>\n",
       "    </tr>\n",
       "    <tr>\n",
       "      <th></th>\n",
       "      <th>category</th>\n",
       "      <th></th>\n",
       "      <th></th>\n",
       "      <th></th>\n",
       "      <th></th>\n",
       "      <th></th>\n",
       "    </tr>\n",
       "  </thead>\n",
       "  <tbody>\n",
       "    <tr>\n",
       "      <td>share_of_likes_from_views</td>\n",
       "      <td>News &amp; Politics</td>\n",
       "      <td>1.204988</td>\n",
       "      <td>1.692703</td>\n",
       "      <td>1.572692</td>\n",
       "      <td>3.996298</td>\n",
       "      <td>1.447129</td>\n",
       "    </tr>\n",
       "    <tr>\n",
       "      <td>share_of_dislikes_from_views</td>\n",
       "      <td>News &amp; Politics</td>\n",
       "      <td>0.145620</td>\n",
       "      <td>0.038686</td>\n",
       "      <td>0.119372</td>\n",
       "      <td>0.246457</td>\n",
       "      <td>0.302540</td>\n",
       "    </tr>\n",
       "  </tbody>\n",
       "</table>\n",
       "</div>"
      ],
      "text/plain": [
       "                                                    DE        FR        GB  \\\n",
       "                             category                                        \n",
       "share_of_likes_from_views    News & Politics  1.204988  1.692703  1.572692   \n",
       "share_of_dislikes_from_views News & Politics  0.145620  0.038686  0.119372   \n",
       "\n",
       "                                                    RU        US  \n",
       "                             category                             \n",
       "share_of_likes_from_views    News & Politics  3.996298  1.447129  \n",
       "share_of_dislikes_from_views News & Politics  0.246457  0.302540  "
      ]
     },
     "execution_count": 35,
     "metadata": {},
     "output_type": "execute_result"
    }
   ],
   "source": [
    "# Транспонируем DataFrame\n",
    "tc_agg_News_Politics_likes_dislikes = tc_agg_News_Politics_likes_dislikes.unstack('category').T\n",
    "tc_agg_News_Politics_likes_dislikes"
   ]
  },
  {
   "cell_type": "code",
   "execution_count": 36,
   "metadata": {},
   "outputs": [
    {
     "data": {
      "text/html": [
       "<div>\n",
       "<style scoped>\n",
       "    .dataframe tbody tr th:only-of-type {\n",
       "        vertical-align: middle;\n",
       "    }\n",
       "\n",
       "    .dataframe tbody tr th {\n",
       "        vertical-align: top;\n",
       "    }\n",
       "\n",
       "    .dataframe thead th {\n",
       "        text-align: right;\n",
       "    }\n",
       "</style>\n",
       "<table border=\"1\" class=\"dataframe\">\n",
       "  <thead>\n",
       "    <tr style=\"text-align: right;\">\n",
       "      <th></th>\n",
       "      <th></th>\n",
       "      <th>DE</th>\n",
       "      <th>FR</th>\n",
       "      <th>GB</th>\n",
       "      <th>RU</th>\n",
       "      <th>US</th>\n",
       "    </tr>\n",
       "    <tr>\n",
       "      <th></th>\n",
       "      <th>category</th>\n",
       "      <th></th>\n",
       "      <th></th>\n",
       "      <th></th>\n",
       "      <th></th>\n",
       "      <th></th>\n",
       "    </tr>\n",
       "  </thead>\n",
       "  <tbody>\n",
       "    <tr>\n",
       "      <td>Share_view_of_total_views</td>\n",
       "      <td>News &amp; Politics</td>\n",
       "      <td>1.084174</td>\n",
       "      <td>0.507624</td>\n",
       "      <td>1.045130</td>\n",
       "      <td>4.506676</td>\n",
       "      <td>1.949751</td>\n",
       "    </tr>\n",
       "    <tr>\n",
       "      <td>share_of_likes_from_views</td>\n",
       "      <td>News &amp; Politics</td>\n",
       "      <td>1.204988</td>\n",
       "      <td>1.692703</td>\n",
       "      <td>1.572692</td>\n",
       "      <td>3.996298</td>\n",
       "      <td>1.447129</td>\n",
       "    </tr>\n",
       "    <tr>\n",
       "      <td>share_of_dislikes_from_views</td>\n",
       "      <td>News &amp; Politics</td>\n",
       "      <td>0.145620</td>\n",
       "      <td>0.038686</td>\n",
       "      <td>0.119372</td>\n",
       "      <td>0.246457</td>\n",
       "      <td>0.302540</td>\n",
       "    </tr>\n",
       "  </tbody>\n",
       "</table>\n",
       "</div>"
      ],
      "text/plain": [
       "                                                    DE        FR        GB  \\\n",
       "                             category                                        \n",
       "Share_view_of_total_views    News & Politics  1.084174  0.507624  1.045130   \n",
       "share_of_likes_from_views    News & Politics  1.204988  1.692703  1.572692   \n",
       "share_of_dislikes_from_views News & Politics  0.145620  0.038686  0.119372   \n",
       "\n",
       "                                                    RU        US  \n",
       "                             category                             \n",
       "Share_view_of_total_views    News & Politics  4.506676  1.949751  \n",
       "share_of_likes_from_views    News & Politics  3.996298  1.447129  \n",
       "share_of_dislikes_from_views News & Politics  0.246457  0.302540  "
      ]
     },
     "execution_count": 36,
     "metadata": {},
     "output_type": "execute_result"
    }
   ],
   "source": [
    "# Объединяем DataFrame с долей просмотра категории 'News & Politics' и DataFrame с долями лайков и дислайков\n",
    "tc_agg_News_Politics = pd.concat([tc_agg_News_Politics_views, tc_agg_News_Politics_likes_dislikes], sort = False)\n",
    "tc_agg_News_Politics"
   ]
  },
  {
   "cell_type": "code",
   "execution_count": 37,
   "metadata": {},
   "outputs": [
    {
     "data": {
      "text/html": [
       "<div>\n",
       "<style scoped>\n",
       "    .dataframe tbody tr th:only-of-type {\n",
       "        vertical-align: middle;\n",
       "    }\n",
       "\n",
       "    .dataframe tbody tr th {\n",
       "        vertical-align: top;\n",
       "    }\n",
       "\n",
       "    .dataframe thead th {\n",
       "        text-align: right;\n",
       "    }\n",
       "</style>\n",
       "<table border=\"1\" class=\"dataframe\">\n",
       "  <thead>\n",
       "    <tr style=\"text-align: right;\">\n",
       "      <th></th>\n",
       "      <th>DE</th>\n",
       "      <th>FR</th>\n",
       "      <th>GB</th>\n",
       "      <th>RU</th>\n",
       "      <th>US</th>\n",
       "    </tr>\n",
       "    <tr>\n",
       "      <th>indicator</th>\n",
       "      <th></th>\n",
       "      <th></th>\n",
       "      <th></th>\n",
       "      <th></th>\n",
       "      <th></th>\n",
       "    </tr>\n",
       "  </thead>\n",
       "  <tbody>\n",
       "    <tr>\n",
       "      <td>Share_view_of_total_views</td>\n",
       "      <td>1.084174</td>\n",
       "      <td>0.507624</td>\n",
       "      <td>1.045130</td>\n",
       "      <td>4.506676</td>\n",
       "      <td>1.949751</td>\n",
       "    </tr>\n",
       "    <tr>\n",
       "      <td>share_of_likes_from_views</td>\n",
       "      <td>1.204988</td>\n",
       "      <td>1.692703</td>\n",
       "      <td>1.572692</td>\n",
       "      <td>3.996298</td>\n",
       "      <td>1.447129</td>\n",
       "    </tr>\n",
       "    <tr>\n",
       "      <td>share_of_dislikes_from_views</td>\n",
       "      <td>0.145620</td>\n",
       "      <td>0.038686</td>\n",
       "      <td>0.119372</td>\n",
       "      <td>0.246457</td>\n",
       "      <td>0.302540</td>\n",
       "    </tr>\n",
       "  </tbody>\n",
       "</table>\n",
       "</div>"
      ],
      "text/plain": [
       "                                    DE        FR        GB        RU        US\n",
       "indicator                                                                     \n",
       "Share_view_of_total_views     1.084174  0.507624  1.045130  4.506676  1.949751\n",
       "share_of_likes_from_views     1.204988  1.692703  1.572692  3.996298  1.447129\n",
       "share_of_dislikes_from_views  0.145620  0.038686  0.119372  0.246457  0.302540"
      ]
     },
     "execution_count": 37,
     "metadata": {},
     "output_type": "execute_result"
    }
   ],
   "source": [
    "# Удаляем столбец с индексом 'category' для того, чобы не захламлять график\n",
    "tc_agg_News_Politics.reset_index('category', drop=True, inplace=True)\n",
    "# Добавляем наименование индекса с указанием нужных нам показателей\n",
    "tc_agg_News_Politics = tc_agg_News_Politics.rename_axis(['indicator'])\n",
    "tc_agg_News_Politics"
   ]
  },
  {
   "cell_type": "code",
   "execution_count": 38,
   "metadata": {},
   "outputs": [
    {
     "data": {
      "text/plain": [
       "<matplotlib.axes._subplots.AxesSubplot at 0x1ffce079f48>"
      ]
     },
     "execution_count": 38,
     "metadata": {},
     "output_type": "execute_result"
    },
    {
     "data": {
      "image/png": "[encoded data removed]",
      "text/plain": [
       "<Figure size 720x360 with 1 Axes>"
      ]
     },
     "metadata": {
      "needs_background": "light"
     },
     "output_type": "display_data"
    }
   ],
   "source": [
    "tc_agg_News_Politics.plot(kind='bar', figsize=(10,5), rot=0, title='Attitude to News & Politics')"
   ]
  },
  {
   "cell_type": "markdown",
   "metadata": {},
   "source": [
    "На графике отражается отношение пользователей Youtube к категории видео 'News & Politics' среди трендовых видео.  \n",
    "1. Share_view_of_total_views - это доля просмотров видео группы 'News & Politics' от просмотров всех остальных видео.\n",
    "   Видно, что в целом пользователи Youtube не очень политизированы, при этом пользователи из России больше всего              интересуются новостями и политиков, меньше всего пользователи из Франции.\n",
    "2. share_of_likes_from_views - это доля лайков от общего количества просмотров. Одобряют видео больше всего пользователи из    Росии, меньше всего из Германии - они просто смотрят\n",
    "3. share_of_dislikes_from_views - это доля дислайков от общего количества просмотров. Чаще всего пользователи ставят          дислайки в США, меньше всего во Франции."
   ]
  },
  {
   "cell_type": "markdown",
   "metadata": {},
   "source": [
    "### 5 График.\n",
    "Рассмотрим корреляцию между количеством просмотров, лайков и дислайков"
   ]
  },
  {
   "cell_type": "code",
   "execution_count": 39,
   "metadata": {},
   "outputs": [
    {
     "data": {
      "text/plain": [
       "<seaborn.axisgrid.PairGrid at 0x1ffce105f48>"
      ]
     },
     "execution_count": 39,
     "metadata": {},
     "output_type": "execute_result"
    },
    {
     "data": {
      "image/png": "[encoded data removed]",
      "text/plain": [
       "<Figure size 540x540 with 12 Axes>"
      ]
     },
     "metadata": {
      "needs_background": "light"
     },
     "output_type": "display_data"
    }
   ],
   "source": [
    "# Рассмотрим связь между просмотрами, лайками и дислайками по всем странам и категориям\n",
    "sns_plot = sns.pairplot(\n",
    "    tc[['view_count','likes','dislikes']])\n",
    "sns_plot"
   ]
  },
  {
   "cell_type": "code",
   "execution_count": 40,
   "metadata": {},
   "outputs": [
    {
     "name": "stdout",
     "output_type": "stream",
     "text": [
      "Коэффициент корреляции Пирсона между просмотрами и лайками: 0.7175649991979937\n",
      "Коэффициент корреляции Пирсона между просмотрами и дислайками: 0.8582911948667318\n",
      "Коэффициент корреляции Пирсона между лайками и дислайками: 0.7166201526775939\n"
     ]
    }
   ],
   "source": [
    "# Рассчитаем линейный коэффициент корелляции (коэффициент Пирсона)\n",
    "view_count = list(tc['view_count'])\n",
    "likes = list(tc['likes'])\n",
    "dislikes = list(tc['dislikes'])\n",
    "\n",
    "corr1, p_value1 = pearsonr(view_count, likes)\n",
    "corr2, p_value2 = pearsonr(view_count, dislikes)\n",
    "corr3, p_value3 = pearsonr(likes, dislikes)\n",
    "\n",
    "print('Коэффициент корреляции Пирсона между просмотрами и лайками:', corr1)\n",
    "print('Коэффициент корреляции Пирсона между просмотрами и дислайками:', corr2)\n",
    "print('Коэффициент корреляции Пирсона между лайками и дислайками:', corr3)"
   ]
  },
  {
   "cell_type": "code",
   "execution_count": 41,
   "metadata": {},
   "outputs": [],
   "source": [
    "# Уберем выбросы (строки с просмотрами от 30 млн.)\n",
    "tc_corr = tc[tc['view_count']<30000000]"
   ]
  },
  {
   "cell_type": "code",
   "execution_count": 42,
   "metadata": {},
   "outputs": [
    {
     "data": {
      "text/plain": [
       "<seaborn.axisgrid.PairGrid at 0x1ffce675fc8>"
      ]
     },
     "execution_count": 42,
     "metadata": {},
     "output_type": "execute_result"
    },
    {
     "data": {
      "image/png": "[encoded data removed]",
      "text/plain": [
       "<Figure size 540x540 with 12 Axes>"
      ]
     },
     "metadata": {
      "needs_background": "light"
     },
     "output_type": "display_data"
    }
   ],
   "source": [
    "sns_plot = sns.pairplot(\n",
    "    tc_corr[['view_count','likes','dislikes']])\n",
    "sns_plot"
   ]
  },
  {
   "cell_type": "markdown",
   "metadata": {},
   "source": [
    "        Судя по графику корреляция между лайками и просмотрами существует, но не столь явная. При увеличении количества просмотров лайки не так сильно увеличиваются. Скорее всего люди по нескольку раз просматривают трендовые видео, особенно это касается музыки. И также просматривают то, что модно, то что подсовывает им сам YouTube при этом относясь к этим видео достаточно равнодушно.  \n",
    "        Похожая ситуация и с дислайками, но всё же корреляция больше. Думаю, это опять же связано с тем, что люди смотрят то, что им подсовывает YouTube, а не то что они бы искали.  "
   ]
  }
 ],
 "metadata": {
  "kernelspec": {
   "display_name": "Python 3",
   "language": "python",
   "name": "python3"
  },
  "language_info": {
   "codemirror_mode": {
    "name": "ipython",
    "version": 3
   },
   "file_extension": ".py",
   "mimetype": "text/x-python",
   "name": "python",
   "nbconvert_exporter": "python",
   "pygments_lexer": "ipython3",
   "version": "3.7.4"
  }
 },
 "nbformat": 4,
 "nbformat_minor": 2
}
